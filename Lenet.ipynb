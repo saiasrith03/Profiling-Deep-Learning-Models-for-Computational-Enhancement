{
  "nbformat": 4,
  "nbformat_minor": 0,
  "metadata": {
    "colab": {
      "provenance": [],
      "gpuType": "T4"
    },
    "kernelspec": {
      "name": "python3",
      "display_name": "Python 3"
    },
    "language_info": {
      "name": "python"
    },
    "accelerator": "GPU"
  },
  "cells": [
    {
      "cell_type": "code",
      "execution_count": null,
      "metadata": {
        "id": "Bk7sN8VkI92B"
      },
      "outputs": [],
      "source": [
        "%matplotlib inline"
      ]
    },
    {
      "cell_type": "code",
      "source": [
        "import torch\n",
        "import torch.optim\n",
        "import torch.profiler\n",
        "import torch.utils.data\n",
        "import torchvision.datasets\n",
        "import torchvision.models\n",
        "import torchvision.transforms as T\n",
        "import torch\n",
        "import torch.nn as nn\n",
        "import torch.nn.functional as F\n",
        "import torch.optim as optim\n",
        "import torch.utils.data as data\n",
        "\n",
        "import torchvision.transforms as transforms\n",
        "import torchvision.datasets as datasets\n",
        "import torch.optim\n",
        "import torch.profiler\n",
        "\n",
        "from sklearn import metrics\n",
        "from sklearn import decomposition\n",
        "from sklearn import manifold\n",
        "from tqdm.notebook import trange, tqdm\n",
        "import matplotlib.pyplot as plt\n",
        "import numpy as np\n",
        "\n",
        "import copy\n",
        "import random\n",
        "import time"
      ],
      "metadata": {
        "id": "hhb07nn6I--X"
      },
      "execution_count": null,
      "outputs": []
    },
    {
      "cell_type": "code",
      "source": [
        "ROOT = '.data'\n",
        "\n",
        "train_data = datasets.MNIST(root=ROOT,\n",
        "                            train=True,\n",
        "                            download=True)\n",
        "\n",
        "mean = train_data.data.float().mean() / 255\n",
        "std = train_data.data.float().std() / 255"
      ],
      "metadata": {
        "id": "wgC-hBXsI-8Q",
        "colab": {
          "base_uri": "https://localhost:8080/"
        },
        "outputId": "e9349d61-b3ab-48b2-842c-fa618dbed85f"
      },
      "execution_count": null,
      "outputs": [
        {
          "output_type": "stream",
          "name": "stdout",
          "text": [
            "Downloading http://yann.lecun.com/exdb/mnist/train-images-idx3-ubyte.gz\n",
            "Downloading http://yann.lecun.com/exdb/mnist/train-images-idx3-ubyte.gz to .data/MNIST/raw/train-images-idx3-ubyte.gz\n"
          ]
        },
        {
          "output_type": "stream",
          "name": "stderr",
          "text": [
            "100%|██████████| 9912422/9912422 [00:00<00:00, 124970200.77it/s]"
          ]
        },
        {
          "output_type": "stream",
          "name": "stdout",
          "text": [
            "Extracting .data/MNIST/raw/train-images-idx3-ubyte.gz to .data/MNIST/raw\n"
          ]
        },
        {
          "output_type": "stream",
          "name": "stderr",
          "text": [
            "\n"
          ]
        },
        {
          "output_type": "stream",
          "name": "stdout",
          "text": [
            "\n",
            "Downloading http://yann.lecun.com/exdb/mnist/train-labels-idx1-ubyte.gz\n",
            "Downloading http://yann.lecun.com/exdb/mnist/train-labels-idx1-ubyte.gz to .data/MNIST/raw/train-labels-idx1-ubyte.gz\n"
          ]
        },
        {
          "output_type": "stream",
          "name": "stderr",
          "text": [
            "100%|██████████| 28881/28881 [00:00<00:00, 112475110.33it/s]"
          ]
        },
        {
          "output_type": "stream",
          "name": "stdout",
          "text": [
            "Extracting .data/MNIST/raw/train-labels-idx1-ubyte.gz to .data/MNIST/raw\n",
            "\n",
            "Downloading http://yann.lecun.com/exdb/mnist/t10k-images-idx3-ubyte.gz\n"
          ]
        },
        {
          "output_type": "stream",
          "name": "stderr",
          "text": [
            "\n"
          ]
        },
        {
          "output_type": "stream",
          "name": "stdout",
          "text": [
            "Downloading http://yann.lecun.com/exdb/mnist/t10k-images-idx3-ubyte.gz to .data/MNIST/raw/t10k-images-idx3-ubyte.gz\n"
          ]
        },
        {
          "output_type": "stream",
          "name": "stderr",
          "text": [
            "100%|██████████| 1648877/1648877 [00:00<00:00, 46470894.07it/s]"
          ]
        },
        {
          "output_type": "stream",
          "name": "stdout",
          "text": [
            "Extracting .data/MNIST/raw/t10k-images-idx3-ubyte.gz to .data/MNIST/raw\n",
            "\n",
            "Downloading http://yann.lecun.com/exdb/mnist/t10k-labels-idx1-ubyte.gz\n",
            "Downloading http://yann.lecun.com/exdb/mnist/t10k-labels-idx1-ubyte.gz to .data/MNIST/raw/t10k-labels-idx1-ubyte.gz\n"
          ]
        },
        {
          "output_type": "stream",
          "name": "stderr",
          "text": [
            "\n",
            "100%|██████████| 4542/4542 [00:00<00:00, 22333562.45it/s]\n"
          ]
        },
        {
          "output_type": "stream",
          "name": "stdout",
          "text": [
            "Extracting .data/MNIST/raw/t10k-labels-idx1-ubyte.gz to .data/MNIST/raw\n",
            "\n"
          ]
        }
      ]
    },
    {
      "cell_type": "code",
      "source": [
        "train_transforms = T.Compose([\n",
        "                            T.RandomRotation(5, fill=(0,)),\n",
        "                            T.RandomCrop(28, padding=2),\n",
        "                            T.ToTensor(),\n",
        "                            T.Normalize(mean=[mean], std=[std])\n",
        "                                      ])\n",
        "\n",
        "test_transforms = T.Compose([\n",
        "                           T.ToTensor(),\n",
        "                           T.Normalize(mean=[mean], std=[std])\n",
        "                                     ])\n",
        "train_set = torchvision.datasets.MNIST(root='./data', train=True, download=True, transform=train_transforms)\n",
        "test_set = torchvision.datasets.MNIST(root='./data', train=False, download=True, transform=test_transforms)\n",
        "train_loader = torch.utils.data.DataLoader(train_set, batch_size=32, shuffle=True)\n",
        "test_loader = torch.utils.data.DataLoader(test_set, batch_size=32, shuffle=False)"
      ],
      "metadata": {
        "colab": {
          "base_uri": "https://localhost:8080/"
        },
        "id": "JagmrhFZI-50",
        "outputId": "498e6eef-e9e3-40c5-cb01-f4899b0bd9e7"
      },
      "execution_count": null,
      "outputs": [
        {
          "output_type": "stream",
          "name": "stdout",
          "text": [
            "Downloading http://yann.lecun.com/exdb/mnist/train-images-idx3-ubyte.gz\n",
            "Downloading http://yann.lecun.com/exdb/mnist/train-images-idx3-ubyte.gz to ./data/MNIST/raw/train-images-idx3-ubyte.gz\n"
          ]
        },
        {
          "output_type": "stream",
          "name": "stderr",
          "text": [
            "100%|██████████| 9912422/9912422 [00:00<00:00, 154306444.74it/s]"
          ]
        },
        {
          "output_type": "stream",
          "name": "stdout",
          "text": [
            "Extracting ./data/MNIST/raw/train-images-idx3-ubyte.gz to ./data/MNIST/raw\n"
          ]
        },
        {
          "output_type": "stream",
          "name": "stderr",
          "text": [
            "\n"
          ]
        },
        {
          "output_type": "stream",
          "name": "stdout",
          "text": [
            "\n",
            "Downloading http://yann.lecun.com/exdb/mnist/train-labels-idx1-ubyte.gz\n",
            "Downloading http://yann.lecun.com/exdb/mnist/train-labels-idx1-ubyte.gz to ./data/MNIST/raw/train-labels-idx1-ubyte.gz\n"
          ]
        },
        {
          "output_type": "stream",
          "name": "stderr",
          "text": [
            "100%|██████████| 28881/28881 [00:00<00:00, 115147997.93it/s]\n"
          ]
        },
        {
          "output_type": "stream",
          "name": "stdout",
          "text": [
            "Extracting ./data/MNIST/raw/train-labels-idx1-ubyte.gz to ./data/MNIST/raw\n",
            "\n",
            "Downloading http://yann.lecun.com/exdb/mnist/t10k-images-idx3-ubyte.gz\n",
            "Downloading http://yann.lecun.com/exdb/mnist/t10k-images-idx3-ubyte.gz to ./data/MNIST/raw/t10k-images-idx3-ubyte.gz\n"
          ]
        },
        {
          "output_type": "stream",
          "name": "stderr",
          "text": [
            "100%|██████████| 1648877/1648877 [00:00<00:00, 49956958.01it/s]"
          ]
        },
        {
          "output_type": "stream",
          "name": "stdout",
          "text": [
            "Extracting ./data/MNIST/raw/t10k-images-idx3-ubyte.gz to ./data/MNIST/raw\n"
          ]
        },
        {
          "output_type": "stream",
          "name": "stderr",
          "text": [
            "\n"
          ]
        },
        {
          "output_type": "stream",
          "name": "stdout",
          "text": [
            "\n",
            "Downloading http://yann.lecun.com/exdb/mnist/t10k-labels-idx1-ubyte.gz\n",
            "Downloading http://yann.lecun.com/exdb/mnist/t10k-labels-idx1-ubyte.gz to ./data/MNIST/raw/t10k-labels-idx1-ubyte.gz\n"
          ]
        },
        {
          "output_type": "stream",
          "name": "stderr",
          "text": [
            "100%|██████████| 4542/4542 [00:00<00:00, 17055083.95it/s]\n"
          ]
        },
        {
          "output_type": "stream",
          "name": "stdout",
          "text": [
            "Extracting ./data/MNIST/raw/t10k-labels-idx1-ubyte.gz to ./data/MNIST/raw\n",
            "\n"
          ]
        }
      ]
    },
    {
      "cell_type": "code",
      "source": [
        "device = torch.device('cuda' if torch.cuda.is_available() else 'cpu')"
      ],
      "metadata": {
        "id": "Icd24fCHI-1A"
      },
      "execution_count": null,
      "outputs": []
    },
    {
      "cell_type": "code",
      "source": [
        "class LeNet(nn.Module):\n",
        "    def __init__(self, output_dim):\n",
        "        super().__init__()\n",
        "\n",
        "        self.conv1 = nn.Conv2d(in_channels=1,\n",
        "                               out_channels=6,\n",
        "                               kernel_size=5)\n",
        "\n",
        "        self.conv2 = nn.Conv2d(in_channels=6,\n",
        "                               out_channels=16,\n",
        "                               kernel_size=5)\n",
        "\n",
        "        self.fc_1 = nn.Linear(16 * 4 * 4, 120)\n",
        "        self.fc_2 = nn.Linear(120, 84)\n",
        "        self.fc_3 = nn.Linear(84, output_dim)\n",
        "\n",
        "    def forward(self, x):\n",
        "\n",
        "        # x = [batch size, 1, 28, 28]\n",
        "\n",
        "        x = self.conv1(x)\n",
        "\n",
        "        # x = [batch size, 6, 24, 24]\n",
        "\n",
        "        x = F.max_pool2d(x, kernel_size=2)\n",
        "\n",
        "        # x = [batch size, 6, 12, 12]\n",
        "\n",
        "        x = F.relu(x)\n",
        "\n",
        "        x = self.conv2(x)\n",
        "\n",
        "        # x = [batch size, 16, 8, 8]\n",
        "\n",
        "        x = F.max_pool2d(x, kernel_size=2)\n",
        "\n",
        "        # x = [batch size, 16, 4, 4]\n",
        "\n",
        "        x = F.relu(x)\n",
        "\n",
        "        x = x.view(x.shape[0], -1)\n",
        "\n",
        "        # x = [batch size, 16*4*4 = 256]\n",
        "\n",
        "        h = x\n",
        "\n",
        "        x = self.fc_1(x)\n",
        "\n",
        "        # x = [batch size, 120]\n",
        "\n",
        "        x = F.relu(x)\n",
        "\n",
        "        x = self.fc_2(x)\n",
        "\n",
        "        # x = batch size, 84]\n",
        "\n",
        "        x = F.relu(x)\n",
        "\n",
        "        x = self.fc_3(x)\n",
        "\n",
        "        # x = [batch size, output dim]\n",
        "\n",
        "        return x, h"
      ],
      "metadata": {
        "id": "OhF1TjOEI-yI"
      },
      "execution_count": null,
      "outputs": []
    },
    {
      "cell_type": "code",
      "source": [
        "OUTPUT_DIM = 10\n",
        "\n",
        "model = LeNet(OUTPUT_DIM)"
      ],
      "metadata": {
        "id": "1RmdkR1vJJHL"
      },
      "execution_count": null,
      "outputs": []
    },
    {
      "cell_type": "code",
      "source": [
        "optimizer = optim.Adam(model.parameters())\n",
        "criterion = nn.CrossEntropyLoss()\n",
        "model = model.to(device)\n",
        "criterion = criterion.to(device)"
      ],
      "metadata": {
        "id": "wgPrmWthJKsY"
      },
      "execution_count": null,
      "outputs": []
    },
    {
      "cell_type": "markdown",
      "source": [
        "Profiling"
      ],
      "metadata": {
        "id": "sJ27GdzZQvKs"
      }
    },
    {
      "cell_type": "code",
      "source": [
        "model.train()"
      ],
      "metadata": {
        "colab": {
          "base_uri": "https://localhost:8080/"
        },
        "id": "Sh9upIVcJMGh",
        "outputId": "cec3ca83-5168-4824-8898-b24fc1365857"
      },
      "execution_count": null,
      "outputs": [
        {
          "output_type": "execute_result",
          "data": {
            "text/plain": [
              "LeNet(\n",
              "  (conv1): Conv2d(1, 6, kernel_size=(5, 5), stride=(1, 1))\n",
              "  (conv2): Conv2d(6, 16, kernel_size=(5, 5), stride=(1, 1))\n",
              "  (fc_1): Linear(in_features=256, out_features=120, bias=True)\n",
              "  (fc_2): Linear(in_features=120, out_features=84, bias=True)\n",
              "  (fc_3): Linear(in_features=84, out_features=10, bias=True)\n",
              ")"
            ]
          },
          "metadata": {},
          "execution_count": 9
        }
      ]
    },
    {
      "cell_type": "code",
      "source": [
        "def train(data):\n",
        "    #print(data)\n",
        "    inputs, labels = data[0].to(device=device), data[1].to(device=device)\n",
        "    outputs,_ = model(inputs)\n",
        "    loss = criterion(outputs, labels)\n",
        "    optimizer.zero_grad()\n",
        "    loss.backward()\n",
        "    optimizer.step()"
      ],
      "metadata": {
        "id": "bYCI8p9EJNyo"
      },
      "execution_count": null,
      "outputs": []
    },
    {
      "cell_type": "code",
      "source": [
        "prof = torch.profiler.profile(\n",
        "        schedule=torch.profiler.schedule(wait=1, warmup=1, active=3, repeat=2),\n",
        "        on_trace_ready=torch.profiler.tensorboard_trace_handler('./log/lenet'),\n",
        "        record_shapes=True,\n",
        "        with_stack=True)\n",
        "prof.start()\n",
        "for step, batch_data in enumerate(train_loader):\n",
        "    if step >= (1 + 1 + 3) * 2:\n",
        "        break\n",
        "    train(batch_data)\n",
        "    prof.step()\n",
        "prof.stop()"
      ],
      "metadata": {
        "id": "REm5F7BbJPQc"
      },
      "execution_count": null,
      "outputs": []
    },
    {
      "cell_type": "code",
      "source": [
        "print(prof.key_averages())"
      ],
      "metadata": {
        "colab": {
          "base_uri": "https://localhost:8080/"
        },
        "id": "Lkea-OeNJRHv",
        "outputId": "2f1f7363-ef07-44c0-c442-7de7f56a662b"
      },
      "execution_count": null,
      "outputs": [
        {
          "output_type": "stream",
          "name": "stdout",
          "text": [
            "-------------------------------------------------------  ------------  ------------  ------------  ------------  ------------  ------------  ------------  ------------  ------------  ------------  \n",
            "                                                   Name    Self CPU %      Self CPU   CPU total %     CPU total  CPU time avg     Self CUDA   Self CUDA %    CUDA total  CUDA time avg    # of Calls  \n",
            "-------------------------------------------------------  ------------  ------------  ------------  ------------  ------------  ------------  ------------  ------------  ------------  ------------  \n",
            "                                          ProfilerStep*         8.48%       7.719ms        95.16%      86.646ms      28.882ms       0.000us         0.00%       1.111ms     370.333us             3  \n",
            "enumerate(DataLoader)#_SingleProcessDataLoaderIter._...        60.66%      55.238ms        77.97%      70.993ms      23.664ms       0.000us         0.00%       0.000us       0.000us             3  \n",
            "                                           aten::select         1.54%       1.399ms         1.74%       1.586ms       8.260us       0.000us         0.00%       0.000us       0.000us           192  \n",
            "                                       aten::as_strided         0.36%     327.000us         0.36%     327.000us       0.965us       0.000us         0.00%       0.000us       0.000us           339  \n",
            "                                             aten::item         1.08%     982.000us         1.12%       1.019ms       1.392us       0.000us         0.00%       0.000us       0.000us           732  \n",
            "                              aten::_local_scalar_dense         0.04%      38.000us         0.04%      38.000us       0.052us       0.000us         0.00%       0.000us       0.000us           732  \n",
            "                                           aten::detach         0.42%     382.000us         0.83%     755.000us       5.992us       0.000us         0.00%       0.000us       0.000us           126  \n",
            "                                                 detach         0.42%     382.000us         0.42%     382.000us       3.032us       0.000us         0.00%       0.000us       0.000us           126  \n",
            "                                               aten::to         0.72%     653.000us         4.39%       3.993ms       5.592us       0.000us         0.00%      36.000us       0.050us           714  \n",
            "                                     aten::resolve_conj         0.00%       0.000us         0.00%       0.000us       0.000us       0.000us         0.00%       0.000us       0.000us            96  \n",
            "                                      aten::resolve_neg         0.00%       0.000us         0.00%       0.000us       0.000us       0.000us         0.00%       0.000us       0.000us            96  \n",
            "                                            aten::empty         0.98%     893.000us         0.98%     893.000us       1.793us       0.000us         0.00%       0.000us       0.000us           498  \n",
            "                                         aten::uniform_         0.53%     486.000us         0.53%     486.000us       5.062us       0.000us         0.00%       0.000us       0.000us            96  \n",
            "                                          aten::randint         1.04%     947.000us         1.85%       1.684ms       8.771us       0.000us         0.00%       0.000us       0.000us           192  \n",
            "                                          aten::random_         0.47%     429.000us         0.47%     429.000us       2.234us       0.000us         0.00%       0.000us       0.000us           192  \n",
            "                                       aten::lift_fresh         0.11%      98.000us         0.11%      98.000us       0.337us       0.000us         0.00%       0.000us       0.000us           291  \n",
            "                                             aten::view         1.04%     943.000us         1.04%     943.000us       2.363us       0.000us         0.00%       0.000us       0.000us           399  \n",
            "                                          aten::permute         0.65%     592.000us         0.76%     688.000us       7.167us       0.000us         0.00%       0.000us       0.000us            96  \n",
            "                                         aten::_to_copy         1.82%       1.655ms         3.74%       3.402ms      10.500us       0.000us         0.00%      36.000us       0.111us           324  \n",
            "                                    aten::empty_strided         1.28%       1.164ms         1.28%       1.164ms       2.410us       0.000us         0.00%       0.000us       0.000us           483  \n",
            "                                            aten::copy_         1.18%       1.078ms         1.62%       1.471ms       2.851us      36.000us         1.54%      36.000us       0.070us           516  \n",
            "                                              aten::div         1.13%       1.033ms         1.91%       1.736ms      18.083us       0.000us         0.00%       0.000us       0.000us            96  \n",
            "                                            aten::clone         0.57%     521.000us         1.01%     918.000us       9.562us       0.000us         0.00%       0.000us       0.000us            96  \n",
            "                                               aten::eq         1.06%     962.000us         1.96%       1.781ms      18.552us       0.000us         0.00%       0.000us       0.000us            96  \n",
            "                                              aten::any         0.79%     723.000us         1.23%       1.124ms      11.708us       0.000us         0.00%       0.000us       0.000us            96  \n",
            "                                          aten::view_as         0.19%     174.000us         0.31%     284.000us       2.958us       0.000us         0.00%       0.000us       0.000us            96  \n",
            "                                       aten::is_nonzero         0.19%     174.000us         0.32%     290.000us       3.021us       0.000us         0.00%       0.000us       0.000us            96  \n",
            "                                             aten::sub_         0.59%     537.000us         0.59%     537.000us       5.594us       0.000us         0.00%       0.000us       0.000us            96  \n",
            "                                             aten::div_         0.34%     308.000us         0.34%     308.000us       3.208us       0.000us         0.00%       0.000us       0.000us            96  \n",
            "                                            aten::stack         0.06%      55.000us         0.17%     158.000us      52.667us       0.000us         0.00%       0.000us       0.000us             3  \n",
            "                                              aten::cat         0.11%      99.000us         0.11%      99.000us      33.000us       0.000us         0.00%       0.000us       0.000us             3  \n",
            "                                          aten::detach_         0.01%       9.000us         0.01%      12.000us       4.000us       0.000us         0.00%       0.000us       0.000us             3  \n",
            "                                                detach_         0.01%       5.000us         0.01%       5.000us       1.667us       0.000us         0.00%       0.000us       0.000us             3  \n",
            "                                        cudaMemcpyAsync         0.32%     292.000us         0.32%     292.000us      48.667us       0.000us         0.00%       0.000us       0.000us             6  \n",
            "                       Memcpy HtoD (Pageable -> Device)         0.00%       0.000us         0.00%       0.000us       0.000us      36.000us         1.54%      36.000us       6.000us             6  \n",
            "                                  cudaStreamSynchronize         0.11%     101.000us         0.11%     101.000us      16.833us       0.000us         0.00%       0.000us       0.000us             6  \n",
            "                                           aten::conv2d         0.06%      54.000us         1.27%       1.155ms     192.500us       0.000us         0.00%     267.000us      44.500us             6  \n",
            "                                      aten::convolution         0.13%     117.000us         1.21%       1.101ms     183.500us       0.000us         0.00%     267.000us      44.500us             6  \n",
            "                                     aten::_convolution         0.12%     109.000us         1.08%     984.000us     164.000us       0.000us         0.00%     267.000us      44.500us             6  \n",
            "                                aten::cudnn_convolution         0.52%     475.000us         0.71%     649.000us     108.167us     227.000us         9.68%     227.000us      37.833us             6  \n",
            "                                  cudaStreamIsCapturing         0.02%      19.000us         0.02%      19.000us       1.056us       0.000us         0.00%       0.000us       0.000us            18  \n",
            "                                  cudaStreamGetPriority         0.00%       3.000us         0.00%       3.000us       0.200us       0.000us         0.00%       0.000us       0.000us            15  \n",
            "                       cudaDeviceGetStreamPriorityRange         0.00%       1.000us         0.00%       1.000us       0.067us       0.000us         0.00%       0.000us       0.000us            15  \n",
            "                                       cudaLaunchKernel         1.79%       1.626ms         1.79%       1.626ms      10.627us       0.000us         0.00%       0.000us       0.000us           153  \n",
            "void cask_cudnn::computeOffsetsKernel<false, false>(...         0.00%       0.000us         0.00%       0.000us       0.000us      12.000us         0.51%      12.000us       4.000us             3  \n",
            "                                        cudaMemsetAsync         0.12%     105.000us         0.12%     105.000us      11.667us       0.000us         0.00%       0.000us       0.000us             9  \n",
            "            cudnn_volta_scudnn_128x32_relu_medium_nn_v1         0.00%       0.000us         0.00%       0.000us       0.000us     102.000us         4.35%     102.000us      34.000us             3  \n",
            "                                          aten::reshape         0.07%      61.000us         0.09%      81.000us       9.000us       0.000us         0.00%       0.000us       0.000us             9  \n",
            "                                   aten::_reshape_alias         0.02%      20.000us         0.02%      20.000us       2.222us       0.000us         0.00%       0.000us       0.000us             9  \n",
            "                                             aten::add_         0.32%     292.000us         0.61%     553.000us      14.553us      40.000us         1.71%      40.000us       1.053us            38  \n",
            "void at::native::elementwise_kernel<128, 2, at::nati...         0.00%       0.000us         0.00%       0.000us       0.000us      40.000us         1.71%      40.000us       6.667us             6  \n",
            "                                       aten::max_pool2d         0.06%      54.000us         0.27%     249.000us      41.500us       0.000us         0.00%      40.000us       6.667us             6  \n",
            "                          aten::max_pool2d_with_indices         0.18%     165.000us         0.25%     224.000us      37.333us      47.000us         2.01%      47.000us       7.833us             6  \n",
            "void at::native::(anonymous namespace)::max_pool_for...         0.00%       0.000us         0.00%       0.000us       0.000us      47.000us         2.01%      47.000us       7.833us             6  \n",
            "                                             aten::relu         0.13%     120.000us         0.45%     407.000us      33.917us       0.000us         0.00%      48.000us       4.000us            12  \n",
            "                                        aten::clamp_min         0.21%     193.000us         0.32%     287.000us      23.917us      48.000us         2.05%      48.000us       4.000us            12  \n",
            "void at::native::vectorized_elementwise_kernel<4, at...         0.00%       0.000us         0.00%       0.000us       0.000us      48.000us         2.05%      48.000us       4.000us            12  \n",
            "void implicit_convolve_sgemm<float, float, 128, 5, 5...         0.00%       0.000us         0.00%       0.000us       0.000us     113.000us         4.82%     113.000us      37.667us             3  \n",
            "                                           aten::linear         0.08%      75.000us         0.96%     877.000us      97.444us       0.000us         0.00%     159.000us      17.667us             9  \n",
            "                                                aten::t         0.18%     162.000us         0.38%     345.000us       7.667us       0.000us         0.00%       0.000us       0.000us            45  \n",
            "                                        aten::transpose         0.16%     147.000us         0.20%     181.000us       4.022us       0.000us         0.00%       0.000us       0.000us            45  \n",
            "                                            aten::addmm         0.54%     489.000us         0.74%     672.000us      74.667us     159.000us         6.78%     159.000us      17.667us             9  \n",
            "          cudaOccupancyMaxActiveBlocksPerMultiprocessor         0.05%      46.000us         0.05%      46.000us       1.704us       0.000us         0.00%       0.000us       0.000us            27  \n",
            "                         volta_sgemm_32x32_sliced1x4_tn         0.00%       0.000us         0.00%       0.000us       0.000us     159.000us         6.78%     159.000us      17.667us             9  \n",
            "                               aten::cross_entropy_loss         0.03%      24.000us         0.37%     339.000us     113.000us       0.000us         0.00%      30.000us      10.000us             3  \n",
            "                                      aten::log_softmax         0.02%      21.000us         0.16%     148.000us      49.333us       0.000us         0.00%      15.000us       5.000us             3  \n",
            "                                     aten::_log_softmax         0.08%      74.000us         0.14%     127.000us      42.333us      15.000us         0.64%      15.000us       5.000us             3  \n",
            "void (anonymous namespace)::softmax_warp_forward<flo...         0.00%       0.000us         0.00%       0.000us       0.000us      15.000us         0.64%      15.000us       5.000us             3  \n",
            "                                      aten::nll_loss_nd         0.01%      13.000us         0.18%     167.000us      55.667us       0.000us         0.00%      15.000us       5.000us             3  \n",
            "                                         aten::nll_loss         0.02%      15.000us         0.17%     154.000us      51.333us       0.000us         0.00%      15.000us       5.000us             3  \n",
            "                                 aten::nll_loss_forward         0.11%     101.000us         0.15%     139.000us      46.333us      15.000us         0.64%      15.000us       5.000us             3  \n",
            "                                          aten::resize_         0.00%       3.000us         0.00%       3.000us       1.000us       0.000us         0.00%       0.000us       0.000us             3  \n",
            "void at::native::(anonymous namespace)::nll_loss_for...         0.00%       0.000us         0.00%       0.000us       0.000us      15.000us         0.64%      15.000us       5.000us             3  \n",
            "                     Optimizer.zero_grad#Adam.zero_grad         0.23%     208.000us         0.23%     208.000us      69.333us       0.000us         0.00%       0.000us       0.000us             3  \n",
            "                                        aten::ones_like         0.02%      22.000us         0.17%     157.000us      52.333us       0.000us         0.00%       9.000us       3.000us             3  \n",
            "                                       aten::empty_like         0.02%      19.000us         0.06%      52.000us      17.333us       0.000us         0.00%       0.000us       0.000us             3  \n",
            "                                            aten::fill_         0.13%     118.000us         0.28%     252.000us      21.000us      40.000us         1.71%      40.000us       3.333us            12  \n",
            "void at::native::vectorized_elementwise_kernel<4, at...         0.00%       0.000us         0.00%       0.000us       0.000us      40.000us         1.71%      40.000us       3.333us            12  \n",
            "autograd::engine::evaluate_function: NllLossBackward...         0.07%      61.000us         0.31%     286.000us      95.333us       0.000us         0.00%      24.000us       8.000us             3  \n",
            "                                       NllLossBackward0         0.04%      33.000us         0.25%     225.000us      75.000us       0.000us         0.00%      24.000us       8.000us             3  \n",
            "                                aten::nll_loss_backward         0.08%      70.000us         0.21%     192.000us      64.000us      15.000us         0.64%      24.000us       8.000us             3  \n",
            "                                            aten::zero_         0.04%      37.000us         0.23%     206.000us      22.889us       0.000us         0.00%      31.000us       3.444us             9  \n",
            "void at::native::(anonymous namespace)::nll_loss_bac...         0.00%       0.000us         0.00%       0.000us       0.000us      15.000us         0.64%      15.000us       5.000us             3  \n",
            "autograd::engine::evaluate_function: LogSoftmaxBackw...         0.02%      21.000us         0.13%     118.000us      39.333us       0.000us         0.00%      12.000us       4.000us             3  \n",
            "                                    LogSoftmaxBackward0         0.02%      21.000us         0.11%      97.000us      32.333us       0.000us         0.00%      12.000us       4.000us             3  \n",
            "                       aten::_log_softmax_backward_data         0.06%      51.000us         0.08%      76.000us      25.333us      12.000us         0.51%      12.000us       4.000us             3  \n",
            "void (anonymous namespace)::softmax_warp_backward<fl...         0.00%       0.000us         0.00%       0.000us       0.000us      12.000us         0.51%      12.000us       4.000us             3  \n",
            "    autograd::engine::evaluate_function: AddmmBackward0         0.19%     173.000us         1.45%       1.319ms     146.556us       0.000us         0.00%     323.000us      35.889us             9  \n",
            "                                         AddmmBackward0         0.13%     121.000us         0.94%     852.000us      94.667us       0.000us         0.00%     219.000us      24.333us             9  \n",
            "                                               aten::mm         0.45%     406.000us         0.62%     565.000us      31.389us     219.000us         9.34%     219.000us      12.167us            18  \n",
            "                                  volta_sgemm_128x32_nn         0.00%       0.000us         0.00%       0.000us       0.000us      33.000us         1.41%      33.000us      11.000us             3  \n",
            "                         volta_sgemm_32x32_sliced1x4_nt         0.00%       0.000us         0.00%       0.000us       0.000us      63.000us         2.69%      63.000us      10.500us             6  \n",
            "                                              aten::sum         0.46%     419.000us         0.66%     600.000us      40.000us     257.000us        10.96%     257.000us      17.133us            15  \n",
            "void at::native::reduce_kernel<256, 2, at::native::R...         0.00%       0.000us         0.00%       0.000us       0.000us      32.000us         1.37%      32.000us      10.667us             3  \n",
            "autograd::engine::evaluate_function: torch::autograd...         0.18%     167.000us         0.48%     438.000us      14.600us       0.000us         0.00%       0.000us       0.000us            30  \n",
            "                        torch::autograd::AccumulateGrad         0.09%      85.000us         0.30%     271.000us       9.033us       0.000us         0.00%       0.000us       0.000us            30  \n",
            "        autograd::engine::evaluate_function: TBackward0         0.04%      33.000us         0.12%     107.000us      11.889us       0.000us         0.00%       0.000us       0.000us             9  \n",
            "                                             TBackward0         0.03%      25.000us         0.07%      64.000us       7.111us       0.000us         0.00%       0.000us       0.000us             9  \n",
            "     autograd::engine::evaluate_function: ReluBackward0         0.10%      87.000us         0.58%     531.000us      44.250us       0.000us         0.00%      48.000us       4.000us            12  \n",
            "                                          ReluBackward0         0.06%      56.000us         0.49%     444.000us      37.000us       0.000us         0.00%      48.000us       4.000us            12  \n",
            "-------------------------------------------------------  ------------  ------------  ------------  ------------  ------------  ------------  ------------  ------------  ------------  ------------  \n",
            "Self CPU time total: 91.056ms\n",
            "Self CUDA time total: 2.344ms\n",
            "\n"
          ]
        }
      ]
    },
    {
      "cell_type": "code",
      "source": [
        "print(prof.key_averages().table(sort_by=\"cpu_time_total\", row_limit=10))"
      ],
      "metadata": {
        "colab": {
          "base_uri": "https://localhost:8080/"
        },
        "id": "f1tpbBjuJbtw",
        "outputId": "9fc6828e-7d8d-4a8b-b12c-8b9bc1a357ed"
      },
      "execution_count": null,
      "outputs": [
        {
          "output_type": "stream",
          "name": "stdout",
          "text": [
            "-------------------------------------------------------  ------------  ------------  ------------  ------------  ------------  ------------  ------------  ------------  ------------  ------------  \n",
            "                                                   Name    Self CPU %      Self CPU   CPU total %     CPU total  CPU time avg     Self CUDA   Self CUDA %    CUDA total  CUDA time avg    # of Calls  \n",
            "-------------------------------------------------------  ------------  ------------  ------------  ------------  ------------  ------------  ------------  ------------  ------------  ------------  \n",
            "                                          ProfilerStep*         8.48%       7.719ms        95.16%      86.646ms      28.882ms       0.000us         0.00%       1.111ms     370.333us             3  \n",
            "enumerate(DataLoader)#_SingleProcessDataLoaderIter._...        60.66%      55.238ms        77.97%      70.993ms      23.664ms       0.000us         0.00%       0.000us       0.000us             3  \n",
            "                                               aten::to         0.72%     653.000us         4.39%       3.993ms       5.592us       0.000us         0.00%      36.000us       0.050us           714  \n",
            "                               Optimizer.step#Adam.step         2.19%       1.991ms         4.17%       3.800ms       1.267ms       0.000us         0.00%     515.000us     171.667us             3  \n",
            "                                         aten::_to_copy         1.82%       1.655ms         3.74%       3.402ms      10.500us       0.000us         0.00%      36.000us       0.111us           324  \n",
            "                                               aten::eq         1.06%     962.000us         1.96%       1.781ms      18.552us       0.000us         0.00%       0.000us       0.000us            96  \n",
            "                                              aten::div         1.13%       1.033ms         1.91%       1.736ms      18.083us       0.000us         0.00%       0.000us       0.000us            96  \n",
            "                                          aten::randint         1.04%     947.000us         1.85%       1.684ms       8.771us       0.000us         0.00%       0.000us       0.000us           192  \n",
            "                                       cudaLaunchKernel         1.79%       1.626ms         1.79%       1.626ms      10.627us       0.000us         0.00%       0.000us       0.000us           153  \n",
            "                                           aten::select         1.54%       1.399ms         1.74%       1.586ms       8.260us       0.000us         0.00%       0.000us       0.000us           192  \n",
            "-------------------------------------------------------  ------------  ------------  ------------  ------------  ------------  ------------  ------------  ------------  ------------  ------------  \n",
            "Self CPU time total: 91.056ms\n",
            "Self CUDA time total: 2.344ms\n",
            "\n"
          ]
        }
      ]
    },
    {
      "cell_type": "code",
      "source": [
        "print(prof.key_averages(group_by_input_shape=True).table(sort_by=\"cpu_time_total\", row_limit=10))"
      ],
      "metadata": {
        "colab": {
          "base_uri": "https://localhost:8080/"
        },
        "id": "eG-JUCXGJe2b",
        "outputId": "fa611890-894a-4c8a-a163-831e41a59f5d"
      },
      "execution_count": null,
      "outputs": [
        {
          "output_type": "stream",
          "name": "stdout",
          "text": [
            "-------------------------------------------------------  ------------  ------------  ------------  ------------  ------------  ------------  ------------  ------------  ------------  ------------  --------------------------------------------------------------------------------  \n",
            "                                                   Name    Self CPU %      Self CPU   CPU total %     CPU total  CPU time avg     Self CUDA   Self CUDA %    CUDA total  CUDA time avg    # of Calls                                                                      Input Shapes  \n",
            "-------------------------------------------------------  ------------  ------------  ------------  ------------  ------------  ------------  ------------  ------------  ------------  ------------  --------------------------------------------------------------------------------  \n",
            "                                          ProfilerStep*         8.48%       7.719ms        95.16%      86.646ms      28.882ms       0.000us         0.00%       1.111ms     370.333us             3                                                                                []  \n",
            "enumerate(DataLoader)#_SingleProcessDataLoaderIter._...        60.66%      55.238ms        77.97%      70.993ms      23.664ms       0.000us         0.00%       0.000us       0.000us             3                                                                                []  \n",
            "                               Optimizer.step#Adam.step         2.19%       1.991ms         4.17%       3.800ms       1.267ms       0.000us         0.00%     515.000us     171.667us             3                                                                                []  \n",
            "                                               aten::eq         1.06%     962.000us         1.96%       1.781ms      18.552us       0.000us         0.00%       0.000us       0.000us            96                                                                         [[1], []]  \n",
            "                                              aten::div         1.13%       1.033ms         1.91%       1.736ms      18.083us       0.000us         0.00%       0.000us       0.000us            96                                                                 [[1, 28, 28], []]  \n",
            "                                               aten::to         0.36%     326.000us         1.86%       1.692ms       5.321us       0.000us         0.00%       0.000us       0.000us           318                                                              [[], [], [], [], []]  \n",
            "                                          aten::randint         1.04%     947.000us         1.85%       1.684ms       8.771us       0.000us         0.00%       0.000us       0.000us           192                                                      [[], [], [], [], [], [], []]  \n",
            "                                       cudaLaunchKernel         1.79%       1.626ms         1.79%       1.626ms      10.627us       0.000us         0.00%       0.000us       0.000us           153                                                                                []  \n",
            "                                               aten::to         0.27%     249.000us         1.76%       1.606ms      16.729us       0.000us         0.00%       0.000us       0.000us            96                                                     [[1, 28, 28], [], [], [], []]  \n",
            "                                         aten::_to_copy         0.75%     680.000us         1.53%       1.393ms      14.510us       0.000us         0.00%       0.000us       0.000us            96                                             [[1, 28, 28], [], [], [], [], [], []]  \n",
            "-------------------------------------------------------  ------------  ------------  ------------  ------------  ------------  ------------  ------------  ------------  ------------  ------------  --------------------------------------------------------------------------------  \n",
            "Self CPU time total: 91.056ms\n",
            "Self CUDA time total: 2.344ms\n",
            "\n"
          ]
        }
      ]
    },
    {
      "cell_type": "code",
      "source": [
        "print(prof.key_averages().table(sort_by=\"cuda_time_total\", row_limit=10))"
      ],
      "metadata": {
        "colab": {
          "base_uri": "https://localhost:8080/"
        },
        "id": "EYs1AetHJhUr",
        "outputId": "fe44f67f-e01c-4dcb-beee-adeece0281ef"
      },
      "execution_count": null,
      "outputs": [
        {
          "output_type": "stream",
          "name": "stdout",
          "text": [
            "-------------------------------------------------------  ------------  ------------  ------------  ------------  ------------  ------------  ------------  ------------  ------------  ------------  \n",
            "                                                   Name    Self CPU %      Self CPU   CPU total %     CPU total  CPU time avg     Self CUDA   Self CUDA %    CUDA total  CUDA time avg    # of Calls  \n",
            "-------------------------------------------------------  ------------  ------------  ------------  ------------  ------------  ------------  ------------  ------------  ------------  ------------  \n",
            "                                          ProfilerStep*         8.48%       7.719ms        95.16%      86.646ms      28.882ms       0.000us         0.00%       1.111ms     370.333us             3  \n",
            "autograd::engine::evaluate_function: ConvolutionBack...         0.08%      73.000us         1.30%       1.186ms     197.667us       0.000us         0.00%     690.000us     115.000us             6  \n",
            "                                   ConvolutionBackward0         0.05%      48.000us         1.22%       1.113ms     185.500us       0.000us         0.00%     690.000us     115.000us             6  \n",
            "                             aten::convolution_backward         0.51%     464.000us         1.17%       1.065ms     177.500us     537.000us        22.91%     690.000us     115.000us             6  \n",
            "                               Optimizer.step#Adam.step         2.19%       1.991ms         4.17%       3.800ms       1.267ms       0.000us         0.00%     515.000us     171.667us             3  \n",
            "void wgrad_alg0_engine<float, 128, 5, 5, 3, 3, 3, fa...         0.00%       0.000us         0.00%       0.000us       0.000us     403.000us        17.19%     403.000us      67.167us             6  \n",
            "    autograd::engine::evaluate_function: AddmmBackward0         0.19%     173.000us         1.45%       1.319ms     146.556us       0.000us         0.00%     323.000us      35.889us             9  \n",
            "                                           aten::conv2d         0.06%      54.000us         1.27%       1.155ms     192.500us       0.000us         0.00%     267.000us      44.500us             6  \n",
            "                                      aten::convolution         0.13%     117.000us         1.21%       1.101ms     183.500us       0.000us         0.00%     267.000us      44.500us             6  \n",
            "                                     aten::_convolution         0.12%     109.000us         1.08%     984.000us     164.000us       0.000us         0.00%     267.000us      44.500us             6  \n",
            "-------------------------------------------------------  ------------  ------------  ------------  ------------  ------------  ------------  ------------  ------------  ------------  ------------  \n",
            "Self CPU time total: 91.056ms\n",
            "Self CUDA time total: 2.344ms\n",
            "\n"
          ]
        }
      ]
    },
    {
      "cell_type": "code",
      "source": [
        "print(prof.key_averages().table(sort_by=\"self_cpu_memory_usage\", row_limit=10))"
      ],
      "metadata": {
        "colab": {
          "base_uri": "https://localhost:8080/"
        },
        "id": "BUlle4EGJjTX",
        "outputId": "8519b22e-eb64-49de-f1d9-3f657809df05"
      },
      "execution_count": null,
      "outputs": [
        {
          "output_type": "stream",
          "name": "stdout",
          "text": [
            "-------------------------------------------------------  ------------  ------------  ------------  ------------  ------------  ------------  ------------  ------------  ------------  ------------  \n",
            "                                                   Name    Self CPU %      Self CPU   CPU total %     CPU total  CPU time avg     Self CUDA   Self CUDA %    CUDA total  CUDA time avg    # of Calls  \n",
            "-------------------------------------------------------  ------------  ------------  ------------  ------------  ------------  ------------  ------------  ------------  ------------  ------------  \n",
            "                                          ProfilerStep*         8.48%       7.719ms        95.16%      86.646ms      28.882ms       0.000us         0.00%       1.111ms     370.333us             3  \n",
            "enumerate(DataLoader)#_SingleProcessDataLoaderIter._...        60.66%      55.238ms        77.97%      70.993ms      23.664ms       0.000us         0.00%       0.000us       0.000us             3  \n",
            "                                           aten::select         1.54%       1.399ms         1.74%       1.586ms       8.260us       0.000us         0.00%       0.000us       0.000us           192  \n",
            "                                       aten::as_strided         0.36%     327.000us         0.36%     327.000us       0.965us       0.000us         0.00%       0.000us       0.000us           339  \n",
            "                                             aten::item         1.08%     982.000us         1.12%       1.019ms       1.392us       0.000us         0.00%       0.000us       0.000us           732  \n",
            "                              aten::_local_scalar_dense         0.04%      38.000us         0.04%      38.000us       0.052us       0.000us         0.00%       0.000us       0.000us           732  \n",
            "                                           aten::detach         0.42%     382.000us         0.83%     755.000us       5.992us       0.000us         0.00%       0.000us       0.000us           126  \n",
            "                                                 detach         0.42%     382.000us         0.42%     382.000us       3.032us       0.000us         0.00%       0.000us       0.000us           126  \n",
            "                                               aten::to         0.72%     653.000us         4.39%       3.993ms       5.592us       0.000us         0.00%      36.000us       0.050us           714  \n",
            "                                     aten::resolve_conj         0.00%       0.000us         0.00%       0.000us       0.000us       0.000us         0.00%       0.000us       0.000us            96  \n",
            "-------------------------------------------------------  ------------  ------------  ------------  ------------  ------------  ------------  ------------  ------------  ------------  ------------  \n",
            "Self CPU time total: 91.056ms\n",
            "Self CUDA time total: 2.344ms\n",
            "\n"
          ]
        }
      ]
    },
    {
      "cell_type": "code",
      "source": [
        "print(prof.key_averages().table(sort_by=\"cpu_memory_usage\", row_limit=10))"
      ],
      "metadata": {
        "colab": {
          "base_uri": "https://localhost:8080/"
        },
        "id": "wY7jCw1jJlS-",
        "outputId": "a4839c8d-df6e-424e-fb89-5d8b95405fea"
      },
      "execution_count": null,
      "outputs": [
        {
          "output_type": "stream",
          "name": "stdout",
          "text": [
            "-------------------------------------------------------  ------------  ------------  ------------  ------------  ------------  ------------  ------------  ------------  ------------  ------------  \n",
            "                                                   Name    Self CPU %      Self CPU   CPU total %     CPU total  CPU time avg     Self CUDA   Self CUDA %    CUDA total  CUDA time avg    # of Calls  \n",
            "-------------------------------------------------------  ------------  ------------  ------------  ------------  ------------  ------------  ------------  ------------  ------------  ------------  \n",
            "                                          ProfilerStep*         8.48%       7.719ms        95.16%      86.646ms      28.882ms       0.000us         0.00%       1.111ms     370.333us             3  \n",
            "enumerate(DataLoader)#_SingleProcessDataLoaderIter._...        60.66%      55.238ms        77.97%      70.993ms      23.664ms       0.000us         0.00%       0.000us       0.000us             3  \n",
            "                                           aten::select         1.54%       1.399ms         1.74%       1.586ms       8.260us       0.000us         0.00%       0.000us       0.000us           192  \n",
            "                                       aten::as_strided         0.36%     327.000us         0.36%     327.000us       0.965us       0.000us         0.00%       0.000us       0.000us           339  \n",
            "                                             aten::item         1.08%     982.000us         1.12%       1.019ms       1.392us       0.000us         0.00%       0.000us       0.000us           732  \n",
            "                              aten::_local_scalar_dense         0.04%      38.000us         0.04%      38.000us       0.052us       0.000us         0.00%       0.000us       0.000us           732  \n",
            "                                           aten::detach         0.42%     382.000us         0.83%     755.000us       5.992us       0.000us         0.00%       0.000us       0.000us           126  \n",
            "                                                 detach         0.42%     382.000us         0.42%     382.000us       3.032us       0.000us         0.00%       0.000us       0.000us           126  \n",
            "                                               aten::to         0.72%     653.000us         4.39%       3.993ms       5.592us       0.000us         0.00%      36.000us       0.050us           714  \n",
            "                                     aten::resolve_conj         0.00%       0.000us         0.00%       0.000us       0.000us       0.000us         0.00%       0.000us       0.000us            96  \n",
            "-------------------------------------------------------  ------------  ------------  ------------  ------------  ------------  ------------  ------------  ------------  ------------  ------------  \n",
            "Self CPU time total: 91.056ms\n",
            "Self CUDA time total: 2.344ms\n",
            "\n"
          ]
        }
      ]
    },
    {
      "cell_type": "code",
      "source": [
        "print(prof.key_averages(group_by_stack_n=5).table(sort_by=\"self_cuda_time_total\", row_limit=2))"
      ],
      "metadata": {
        "colab": {
          "base_uri": "https://localhost:8080/"
        },
        "id": "-6JeJkznJnFL",
        "outputId": "aee2434c-93a1-4706-9aa3-1bddb7d4260d"
      },
      "execution_count": null,
      "outputs": [
        {
          "output_type": "stream",
          "name": "stdout",
          "text": [
            "-------------------------------------------------------  ------------  ------------  ------------  ------------  ------------  ------------  ------------  ------------  ------------  ------------  \n",
            "                                                   Name    Self CPU %      Self CPU   CPU total %     CPU total  CPU time avg     Self CUDA   Self CUDA %    CUDA total  CUDA time avg    # of Calls  \n",
            "-------------------------------------------------------  ------------  ------------  ------------  ------------  ------------  ------------  ------------  ------------  ------------  ------------  \n",
            "                             aten::convolution_backward         0.51%     464.000us         1.17%       1.065ms     177.500us     537.000us        22.91%     690.000us     115.000us             6  \n",
            "void wgrad_alg0_engine<float, 128, 5, 5, 3, 3, 3, fa...         0.00%       0.000us         0.00%       0.000us       0.000us     403.000us        17.19%     403.000us      67.167us             6  \n",
            "-------------------------------------------------------  ------------  ------------  ------------  ------------  ------------  ------------  ------------  ------------  ------------  ------------  \n",
            "Self CPU time total: 91.056ms\n",
            "Self CUDA time total: 2.344ms\n",
            "\n"
          ]
        }
      ]
    },
    {
      "cell_type": "code",
      "source": [
        "from google.colab import drive\n",
        "drive.mount('/content/drive')"
      ],
      "metadata": {
        "colab": {
          "base_uri": "https://localhost:8080/"
        },
        "id": "UGhIqttCJo5u",
        "outputId": "6c63e3d9-e403-4afe-afe9-4ec5d17f1a31"
      },
      "execution_count": null,
      "outputs": [
        {
          "output_type": "stream",
          "name": "stdout",
          "text": [
            "Mounted at /content/drive\n"
          ]
        }
      ]
    },
    {
      "cell_type": "code",
      "source": [
        "!mv /content/log /content/drive/MyDrive"
      ],
      "metadata": {
        "id": "uefqh6jPJ7Kc"
      },
      "execution_count": null,
      "outputs": []
    },
    {
      "cell_type": "markdown",
      "source": [
        "Profiling with Automatic Mixed Precision"
      ],
      "metadata": {
        "id": "NRigkrENP1Tm"
      }
    },
    {
      "cell_type": "code",
      "source": [
        "import torch, time, gc\n",
        "\n",
        "# Timing utilities\n",
        "start_time = None\n",
        "\n",
        "def start_timer():\n",
        "    global start_time\n",
        "    gc.collect()\n",
        "    torch.cuda.empty_cache()\n",
        "    torch.cuda.reset_max_memory_allocated()\n",
        "    torch.cuda.synchronize()\n",
        "    start_time = time.time()\n",
        "\n",
        "def end_timer_and_print(local_msg):\n",
        "    torch.cuda.synchronize()\n",
        "    end_time = time.time()\n",
        "    print(\"\\n\" + local_msg)\n",
        "    print(\"Total execution time = {:.3f} sec\".format(end_time - start_time))\n",
        "    print(\"Max memory used by tensors = {} bytes\".format(torch.cuda.max_memory_allocated()))"
      ],
      "metadata": {
        "id": "VsLH_Xq_KdwN"
      },
      "execution_count": null,
      "outputs": []
    },
    {
      "cell_type": "code",
      "source": [
        "model.train()"
      ],
      "metadata": {
        "colab": {
          "base_uri": "https://localhost:8080/"
        },
        "id": "A7_jrcg-Q9rm",
        "outputId": "14a0543e-8cb3-4b3e-f704-4cf5a7d3a638"
      },
      "execution_count": null,
      "outputs": [
        {
          "output_type": "execute_result",
          "data": {
            "text/plain": [
              "LeNet(\n",
              "  (conv1): Conv2d(1, 6, kernel_size=(5, 5), stride=(1, 1))\n",
              "  (conv2): Conv2d(6, 16, kernel_size=(5, 5), stride=(1, 1))\n",
              "  (fc_1): Linear(in_features=256, out_features=120, bias=True)\n",
              "  (fc_2): Linear(in_features=120, out_features=84, bias=True)\n",
              "  (fc_3): Linear(in_features=84, out_features=10, bias=True)\n",
              ")"
            ]
          },
          "metadata": {},
          "execution_count": 10
        }
      ]
    },
    {
      "cell_type": "code",
      "source": [
        "use_amp = True\n",
        "scaler = torch.cuda.amp.GradScaler(enabled=use_amp)\n",
        "\n",
        "def train(data):\n",
        "  inputs, labels = data[0].to(device=device), data[1].to(device=device)\n",
        "  with torch.autocast(device_type='cuda', dtype=torch.float16, enabled=use_amp):\n",
        "    outputs,_ = model(inputs)\n",
        "    loss = criterion(outputs, labels)\n",
        "  scaler.scale(loss).backward()\n",
        "  scaler.step(optimizer)\n",
        "  scaler.update()\n",
        "  optimizer.zero_grad() # set_to_non"
      ],
      "metadata": {
        "id": "VTT_3WVRRBq0"
      },
      "execution_count": null,
      "outputs": []
    },
    {
      "cell_type": "code",
      "source": [
        "prof = torch.profiler.profile(\n",
        "        schedule=torch.profiler.schedule(wait=1, warmup=1, active=3, repeat=2),\n",
        "        on_trace_ready=torch.profiler.tensorboard_trace_handler('./log/lenet_amp'),\n",
        "        record_shapes=True,\n",
        "        with_stack=True)\n",
        "prof.start()\n",
        "start_timer()\n",
        "for step, batch_data in enumerate(train_loader):\n",
        "\n",
        "    if step >= (1 + 1 + 3) * 2:\n",
        "        break\n",
        "    train(batch_data)\n",
        "    prof.step()\n",
        "prof.stop()\n",
        "end_timer_and_print(\"Mixed precision:\")"
      ],
      "metadata": {
        "colab": {
          "base_uri": "https://localhost:8080/"
        },
        "id": "XJJr__9qSMLb",
        "outputId": "9a43873c-8612-4abf-f5fc-ee7fc3521311"
      },
      "execution_count": null,
      "outputs": [
        {
          "output_type": "stream",
          "name": "stderr",
          "text": [
            "/usr/local/lib/python3.10/dist-packages/torch/cuda/memory.py:303: FutureWarning: torch.cuda.reset_max_memory_allocated now calls torch.cuda.reset_peak_memory_stats, which resets /all/ peak memory stats.\n",
            "  warnings.warn(\n"
          ]
        },
        {
          "output_type": "stream",
          "name": "stdout",
          "text": [
            "\n",
            "Mixed precision:\n",
            "Total execution time = 9.540 sec\n",
            "Max memory used by tensors = 19532288 bytes\n"
          ]
        }
      ]
    },
    {
      "cell_type": "code",
      "source": [
        "print(prof.key_averages())"
      ],
      "metadata": {
        "colab": {
          "base_uri": "https://localhost:8080/"
        },
        "id": "Yymu1yPaSr6l",
        "outputId": "8e022fe1-2574-4e15-c94a-716eb3409826"
      },
      "execution_count": null,
      "outputs": [
        {
          "output_type": "stream",
          "name": "stdout",
          "text": [
            "-------------------------------------------------------  ------------  ------------  ------------  ------------  ------------  ------------  ------------  ------------  ------------  ------------  \n",
            "                                                   Name    Self CPU %      Self CPU   CPU total %     CPU total  CPU time avg     Self CUDA   Self CUDA %    CUDA total  CUDA time avg    # of Calls  \n",
            "-------------------------------------------------------  ------------  ------------  ------------  ------------  ------------  ------------  ------------  ------------  ------------  ------------  \n",
            "                                          ProfilerStep*        10.65%       8.673ms        93.86%      76.424ms      25.475ms       0.000us         0.00%       1.478ms     492.667us             3  \n",
            "enumerate(DataLoader)#_SingleProcessDataLoaderIter._...        57.46%      46.788ms        73.35%      59.725ms      19.908ms       0.000us         0.00%       0.000us       0.000us             3  \n",
            "                                           aten::select         1.12%     909.000us         1.28%       1.045ms       5.443us       0.000us         0.00%       0.000us       0.000us           192  \n",
            "                                       aten::as_strided         0.32%     264.000us         0.32%     264.000us       0.772us       0.000us         0.00%       0.000us       0.000us           342  \n",
            "                                             aten::item         0.85%     693.000us         1.03%     836.000us       1.137us       0.000us         0.00%       3.000us       0.004us           735  \n",
            "                              aten::_local_scalar_dense         0.08%      67.000us         0.18%     144.000us       0.196us       3.000us         0.09%       3.000us       0.004us           735  \n",
            "                                           aten::detach         0.32%     263.000us         0.68%     555.000us       4.405us       0.000us         0.00%       0.000us       0.000us           126  \n",
            "                                                 detach         0.37%     303.000us         0.37%     303.000us       2.405us       0.000us         0.00%       0.000us       0.000us           126  \n",
            "                                               aten::to         1.23%     998.000us         7.21%       5.869ms       7.327us       0.000us         0.00%     454.000us       0.567us           801  \n",
            "                                     aten::resolve_conj         0.00%       0.000us         0.00%       0.000us       0.000us       0.000us         0.00%       0.000us       0.000us            96  \n",
            "                                      aten::resolve_neg         0.00%       0.000us         0.00%       0.000us       0.000us       0.000us         0.00%       0.000us       0.000us            96  \n",
            "                                            aten::empty         0.79%     642.000us         0.79%     642.000us       1.281us       0.000us         0.00%       0.000us       0.000us           501  \n",
            "                                         aten::uniform_         0.53%     431.000us         0.53%     431.000us       4.490us       0.000us         0.00%       0.000us       0.000us            96  \n",
            "                                          aten::randint         1.02%     827.000us         1.64%       1.338ms       6.969us       0.000us         0.00%       0.000us       0.000us           192  \n",
            "                                          aten::random_         0.40%     329.000us         0.40%     329.000us       1.714us       0.000us         0.00%       0.000us       0.000us           192  \n",
            "                                       aten::lift_fresh         0.12%      97.000us         0.12%      97.000us       0.333us       0.000us         0.00%       0.000us       0.000us           291  \n",
            "                                             aten::view         0.96%     783.000us         0.96%     783.000us       1.962us       0.000us         0.00%       0.000us       0.000us           399  \n",
            "                                          aten::permute         0.62%     501.000us         0.72%     589.000us       6.135us       0.000us         0.00%       0.000us       0.000us            96  \n",
            "                                         aten::_to_copy         2.47%       2.014ms         6.43%       5.232ms      12.919us       0.000us         0.00%     486.000us       1.200us           405  \n",
            "                                    aten::empty_strided         1.56%       1.274ms         1.56%       1.274ms       2.259us       0.000us         0.00%       0.000us       0.000us           564  \n",
            "                                            aten::copy_         2.03%       1.651ms         3.22%       2.625ms       4.397us     486.000us        14.16%     486.000us       0.814us           597  \n",
            "                                              aten::div         1.01%     824.000us         1.73%       1.405ms      14.635us       0.000us         0.00%       0.000us       0.000us            96  \n",
            "                                            aten::clone         0.57%     462.000us         0.92%     748.000us       7.792us       0.000us         0.00%       0.000us       0.000us            96  \n",
            "                                               aten::eq         0.94%     769.000us         1.75%       1.426ms      14.854us       0.000us         0.00%       0.000us       0.000us            96  \n",
            "                                              aten::any         0.70%     574.000us         1.12%     908.000us       9.458us       0.000us         0.00%       0.000us       0.000us            96  \n",
            "                                          aten::view_as         0.19%     158.000us         0.26%     213.000us       2.219us       0.000us         0.00%       0.000us       0.000us            96  \n",
            "                                       aten::is_nonzero         0.15%     121.000us         0.28%     229.000us       2.385us       0.000us         0.00%       0.000us       0.000us            96  \n",
            "                                             aten::sub_         0.59%     477.000us         0.59%     477.000us       4.969us       0.000us         0.00%       0.000us       0.000us            96  \n",
            "                                             aten::div_         0.36%     292.000us         0.36%     292.000us       3.042us       0.000us         0.00%       0.000us       0.000us            96  \n",
            "                                            aten::stack         0.05%      38.000us         0.14%     114.000us      38.000us       0.000us         0.00%       0.000us       0.000us             3  \n",
            "                                              aten::cat         0.09%      73.000us         0.09%      73.000us      24.333us       0.000us         0.00%       0.000us       0.000us             3  \n",
            "                                          aten::detach_         0.01%       6.000us         0.01%       8.000us       2.667us       0.000us         0.00%       0.000us       0.000us             3  \n",
            "                                                detach_         0.00%       2.000us         0.00%       2.000us       0.667us       0.000us         0.00%       0.000us       0.000us             3  \n",
            "                                        cudaMemcpyAsync         0.37%     304.000us         0.37%     304.000us      20.267us       0.000us         0.00%       0.000us       0.000us            15  \n",
            "                                  cudaStreamSynchronize         0.12%      96.000us         0.12%      96.000us      10.667us       0.000us         0.00%       0.000us       0.000us             9  \n",
            "                       Memcpy HtoD (Pageable -> Device)         0.00%       0.000us         0.00%       0.000us       0.000us      35.000us         1.02%      35.000us       5.833us             6  \n",
            "                                           aten::conv2d         0.12%     100.000us         2.60%       2.115ms     176.250us       0.000us         0.00%     622.000us      51.833us            12  \n",
            "                                       cudaLaunchKernel         2.65%       2.161ms         2.65%       2.161ms       8.280us       0.000us         0.00%       0.000us       0.000us           261  \n",
            "void at::native::unrolled_elementwise_kernel<at::nat...         0.00%       0.000us         0.00%       0.000us       0.000us     219.000us         6.38%     219.000us       6.083us            36  \n",
            "                                      aten::convolution         0.07%      61.000us         0.92%     747.000us     124.500us       0.000us         0.00%     266.000us      44.333us             6  \n",
            "                                     aten::_convolution         0.10%      81.000us         0.84%     686.000us     114.333us       0.000us         0.00%     266.000us      44.333us             6  \n",
            "                                aten::cudnn_convolution         0.39%     315.000us         0.55%     451.000us      75.167us     219.000us         6.38%     219.000us      36.500us             6  \n",
            "                                  cudaStreamIsCapturing         0.01%       9.000us         0.01%       9.000us       0.500us       0.000us         0.00%       0.000us       0.000us            18  \n",
            "                                  cudaStreamGetPriority         0.00%       0.000us         0.00%       0.000us       0.000us       0.000us         0.00%       0.000us       0.000us            15  \n",
            "                       cudaDeviceGetStreamPriorityRange         0.00%       0.000us         0.00%       0.000us       0.000us       0.000us         0.00%       0.000us       0.000us            15  \n",
            "void cask_cudnn::computeOffsetsKernel<false, false>(...         0.00%       0.000us         0.00%       0.000us       0.000us      12.000us         0.35%      12.000us       4.000us             3  \n",
            "                                        cudaMemsetAsync         0.12%      96.000us         0.12%      96.000us       8.000us       0.000us         0.00%       0.000us       0.000us            12  \n",
            "cudnn_volta_fp16_scudnn_fp16_128x32_relu_small_nn_v1...         0.00%       0.000us         0.00%       0.000us       0.000us     105.000us         3.06%     105.000us      35.000us             3  \n",
            "                                          aten::reshape         0.06%      45.000us         0.07%      58.000us       6.444us       0.000us         0.00%       0.000us       0.000us             9  \n",
            "                                   aten::_reshape_alias         0.02%      13.000us         0.02%      13.000us       1.444us       0.000us         0.00%       0.000us       0.000us             9  \n",
            "                                             aten::add_         0.26%     215.000us         0.58%     470.000us      12.368us      47.000us         1.37%      47.000us       1.237us            38  \n",
            "void at::native::elementwise_kernel<128, 4, at::nati...         0.00%       0.000us         0.00%       0.000us       0.000us      47.000us         1.37%      47.000us       7.833us             6  \n",
            "                                       aten::max_pool2d         0.02%      18.000us         0.30%     242.000us      40.333us       0.000us         0.00%      45.000us       7.500us             6  \n",
            "                          aten::max_pool2d_with_indices         0.21%     172.000us         0.28%     224.000us      37.333us      45.000us         1.31%      45.000us       7.500us             6  \n",
            "void at::native::(anonymous namespace)::max_pool_for...         0.00%       0.000us         0.00%       0.000us       0.000us      45.000us         1.31%      45.000us       7.500us             6  \n",
            "                                             aten::relu         0.12%     100.000us         0.40%     327.000us      27.250us       0.000us         0.00%      48.000us       4.000us            12  \n",
            "                                        aten::clamp_min         0.18%     145.000us         0.28%     227.000us      18.917us      48.000us         1.40%      48.000us       4.000us            12  \n",
            "void at::native::vectorized_elementwise_kernel<4, at...         0.00%       0.000us         0.00%       0.000us       0.000us      48.000us         1.40%      48.000us       4.000us            12  \n",
            "void cudnn::ops::nchwToNhwcKernel<__half, __half, fl...         0.00%       0.000us         0.00%       0.000us       0.000us     114.000us         3.32%     114.000us       7.600us            15  \n",
            "                                                INVALID         0.07%      58.000us         0.07%      58.000us       6.444us       0.000us         0.00%       0.000us       0.000us             9  \n",
            "sm75_xmma_fprop_implicit_gemm_indexed_wo_smem_f16f16...         0.00%       0.000us         0.00%       0.000us       0.000us      48.000us         1.40%      48.000us      16.000us             3  \n",
            "void cudnn::ops::nhwcToNchwKernel<__half, __half, fl...         0.00%       0.000us         0.00%       0.000us       0.000us      58.000us         1.69%      58.000us       6.444us             9  \n",
            "                                           aten::linear         0.04%      29.000us         2.30%       1.873ms     104.056us       0.000us         0.00%     273.000us      15.167us            18  \n",
            "                                                aten::t         0.15%     121.000us         0.32%     261.000us       5.800us       0.000us         0.00%       0.000us       0.000us            45  \n",
            "                                        aten::transpose         0.14%     114.000us         0.17%     139.000us       3.089us       0.000us         0.00%       0.000us       0.000us            45  \n",
            "                                            aten::addmm         0.45%     370.000us         0.62%     501.000us      55.667us      81.000us         2.36%      81.000us       9.000us             9  \n",
            "cudaOccupancyMaxActiveBlocksPerMultiprocessorWithFla...         0.04%      30.000us         0.04%      30.000us       0.833us       0.000us         0.00%       0.000us       0.000us            36  \n",
            "void cutlass::Kernel<cutlass_75_wmma_tensorop_f16_s1...         0.00%       0.000us         0.00%       0.000us       0.000us      27.000us         0.79%      27.000us       9.000us             3  \n",
            "void cutlass::Kernel<cutlass_75_wmma_tensorop_f16_s1...         0.00%       0.000us         0.00%       0.000us       0.000us      54.000us         1.57%      54.000us       9.000us             6  \n",
            "                               aten::cross_entropy_loss         0.02%      20.000us         0.52%     421.000us     140.333us       0.000us         0.00%      48.000us      16.000us             3  \n",
            "                                      aten::log_softmax         0.03%      23.000us         0.16%     130.000us      43.333us       0.000us         0.00%      15.000us       5.000us             3  \n",
            "                                     aten::_log_softmax         0.09%      72.000us         0.13%     107.000us      35.667us      15.000us         0.44%      15.000us       5.000us             3  \n",
            "void (anonymous namespace)::softmax_warp_forward<c10...         0.00%       0.000us         0.00%       0.000us       0.000us      15.000us         0.44%      15.000us       5.000us             3  \n",
            "                                      aten::nll_loss_nd         0.02%      17.000us         0.33%     271.000us      90.333us       0.000us         0.00%      33.000us      11.000us             3  \n",
            "                                         aten::nll_loss        -0.01%      -8.000us         0.47%     379.000us      63.167us       0.000us         0.00%      48.000us       8.000us             6  \n",
            "void at::native::unrolled_elementwise_kernel<at::nat...         0.00%       0.000us         0.00%       0.000us       0.000us     194.000us         5.65%     194.000us       5.389us            36  \n",
            "                                 aten::nll_loss_forward         0.11%      90.000us         0.14%     117.000us      39.000us      15.000us         0.44%      15.000us       5.000us             3  \n",
            "                                          aten::resize_         0.00%       1.000us         0.00%       1.000us       0.333us       0.000us         0.00%       0.000us       0.000us             3  \n",
            "void at::native::(anonymous namespace)::nll_loss_for...         0.00%       0.000us         0.00%       0.000us       0.000us      15.000us         0.44%      15.000us       5.000us             3  \n",
            "                                              aten::mul         0.19%     151.000us         0.32%     258.000us      43.000us      24.000us         0.70%      24.000us       4.000us             6  \n",
            "void at::native::vectorized_elementwise_kernel<4, at...         0.00%       0.000us         0.00%       0.000us       0.000us      24.000us         0.70%      24.000us       4.000us             6  \n",
            "                                        aten::ones_like         0.02%      15.000us         0.16%     128.000us      42.667us       0.000us         0.00%       9.000us       3.000us             3  \n",
            "                                       aten::empty_like         0.02%      13.000us         0.05%      37.000us      12.333us       0.000us         0.00%       0.000us       0.000us             3  \n",
            "                                            aten::fill_         0.14%     118.000us         0.28%     231.000us      15.400us      49.000us         1.43%      49.000us       3.267us            15  \n",
            "void at::native::vectorized_elementwise_kernel<4, at...         0.00%       0.000us         0.00%       0.000us       0.000us      27.000us         0.79%      27.000us       3.000us             9  \n",
            "      autograd::engine::evaluate_function: MulBackward0         0.08%      64.000us         0.43%     351.000us     117.000us       0.000us         0.00%      36.000us      12.000us             3  \n",
            "                                           MulBackward0         0.02%      19.000us         0.20%     161.000us      53.667us       0.000us         0.00%      12.000us       4.000us             3  \n",
            "                                              aten::sum         0.48%     390.000us         0.66%     538.000us      29.889us     292.000us         8.51%     292.000us      16.222us            18  \n",
            "void at::native::reduce_kernel<512, 1, at::native::R...         0.00%       0.000us         0.00%       0.000us       0.000us      24.000us         0.70%      24.000us       8.000us             3  \n",
            "autograd::engine::evaluate_function: NllLossBackward...         0.03%      26.000us         0.22%     182.000us      60.667us       0.000us         0.00%      24.000us       8.000us             3  \n",
            "                                       NllLossBackward0         0.02%      15.000us         0.19%     156.000us      52.000us       0.000us         0.00%      24.000us       8.000us             3  \n",
            "                                aten::nll_loss_backward         0.06%      48.000us         0.17%     141.000us      47.000us      15.000us         0.44%      24.000us       8.000us             3  \n",
            "                                            aten::zero_         0.04%      29.000us         0.18%     146.000us      16.222us       0.000us         0.00%      31.000us       3.444us             9  \n",
            "void at::native::(anonymous namespace)::nll_loss_bac...         0.00%       0.000us         0.00%       0.000us       0.000us      15.000us         0.44%      15.000us       5.000us             3  \n",
            "autograd::engine::evaluate_function: ToCopyBackward0...         0.16%     129.000us         1.37%       1.115ms      33.788us       0.000us         0.00%     182.000us       5.515us            33  \n",
            "                                        ToCopyBackward0         0.00%       4.000us         1.19%     965.000us      29.242us       0.000us         0.00%     178.000us       5.394us            33  \n",
            "autograd::engine::evaluate_function: LogSoftmaxBackw...         0.03%      21.000us         0.14%     111.000us      37.000us       0.000us         0.00%      12.000us       4.000us             3  \n",
            "                                    LogSoftmaxBackward0         0.03%      24.000us         0.11%      90.000us      30.000us       0.000us         0.00%      12.000us       4.000us             3  \n",
            "                       aten::_log_softmax_backward_data         0.05%      41.000us         0.08%      66.000us      22.000us      12.000us         0.35%      12.000us       4.000us             3  \n",
            "void (anonymous namespace)::softmax_warp_backward<c1...         0.00%       0.000us         0.00%       0.000us       0.000us      12.000us         0.35%      12.000us       4.000us             3  \n",
            "-------------------------------------------------------  ------------  ------------  ------------  ------------  ------------  ------------  ------------  ------------  ------------  ------------  \n",
            "Self CPU time total: 81.424ms\n",
            "Self CUDA time total: 3.433ms\n",
            "\n"
          ]
        }
      ]
    },
    {
      "cell_type": "code",
      "source": [
        "print(prof.key_averages().table(sort_by=\"cpu_time_total\", row_limit=10))"
      ],
      "metadata": {
        "colab": {
          "base_uri": "https://localhost:8080/"
        },
        "id": "xDczy_94TaTc",
        "outputId": "8164ea22-90ae-40d7-9df8-4387baf67cb0"
      },
      "execution_count": null,
      "outputs": [
        {
          "output_type": "stream",
          "name": "stdout",
          "text": [
            "-------------------------------------------------------  ------------  ------------  ------------  ------------  ------------  ------------  ------------  ------------  ------------  ------------  \n",
            "                                                   Name    Self CPU %      Self CPU   CPU total %     CPU total  CPU time avg     Self CUDA   Self CUDA %    CUDA total  CUDA time avg    # of Calls  \n",
            "-------------------------------------------------------  ------------  ------------  ------------  ------------  ------------  ------------  ------------  ------------  ------------  ------------  \n",
            "                                          ProfilerStep*        10.65%       8.673ms        93.86%      76.424ms      25.475ms       0.000us         0.00%       1.478ms     492.667us             3  \n",
            "enumerate(DataLoader)#_SingleProcessDataLoaderIter._...        57.46%      46.788ms        73.35%      59.725ms      19.908ms       0.000us         0.00%       0.000us       0.000us             3  \n",
            "                                               aten::to         1.23%     998.000us         7.21%       5.869ms       7.327us       0.000us         0.00%     454.000us       0.567us           801  \n",
            "                                         aten::_to_copy         2.47%       2.014ms         6.43%       5.232ms      12.919us       0.000us         0.00%     486.000us       1.200us           405  \n",
            "                               Optimizer.step#Adam.step         1.73%       1.409ms         3.48%       2.833ms     944.333us       0.000us         0.00%     588.000us     196.000us             3  \n",
            "                                            aten::copy_         2.03%       1.651ms         3.22%       2.625ms       4.397us     486.000us        14.16%     486.000us       0.814us           597  \n",
            "                                       cudaLaunchKernel         2.65%       2.161ms         2.65%       2.161ms       8.280us       0.000us         0.00%       0.000us       0.000us           261  \n",
            "                                           aten::conv2d         0.12%     100.000us         2.60%       2.115ms     176.250us       0.000us         0.00%     622.000us      51.833us            12  \n",
            "                                           aten::linear         0.04%      29.000us         2.30%       1.873ms     104.056us       0.000us         0.00%     273.000us      15.167us            18  \n",
            "                                               aten::eq         0.94%     769.000us         1.75%       1.426ms      14.854us       0.000us         0.00%       0.000us       0.000us            96  \n",
            "-------------------------------------------------------  ------------  ------------  ------------  ------------  ------------  ------------  ------------  ------------  ------------  ------------  \n",
            "Self CPU time total: 81.424ms\n",
            "Self CUDA time total: 3.433ms\n",
            "\n"
          ]
        }
      ]
    },
    {
      "cell_type": "code",
      "source": [
        "print(prof.key_averages(group_by_input_shape=True).table(sort_by=\"cpu_time_total\", row_limit=10))"
      ],
      "metadata": {
        "colab": {
          "base_uri": "https://localhost:8080/"
        },
        "id": "1EtcnT1lTfb1",
        "outputId": "b5a0240c-9501-4183-8fc3-1dd1308ebee9"
      },
      "execution_count": null,
      "outputs": [
        {
          "output_type": "stream",
          "name": "stdout",
          "text": [
            "-------------------------------------------------------  ------------  ------------  ------------  ------------  ------------  ------------  ------------  ------------  ------------  ------------  --------------------------------------------------------------------------------  \n",
            "                                                   Name    Self CPU %      Self CPU   CPU total %     CPU total  CPU time avg     Self CUDA   Self CUDA %    CUDA total  CUDA time avg    # of Calls                                                                      Input Shapes  \n",
            "-------------------------------------------------------  ------------  ------------  ------------  ------------  ------------  ------------  ------------  ------------  ------------  ------------  --------------------------------------------------------------------------------  \n",
            "                                          ProfilerStep*        10.65%       8.673ms        93.86%      76.424ms      25.475ms       0.000us         0.00%       1.478ms     492.667us             3                                                                                []  \n",
            "enumerate(DataLoader)#_SingleProcessDataLoaderIter._...        57.46%      46.788ms        73.35%      59.725ms      19.908ms       0.000us         0.00%       0.000us       0.000us             3                                                                                []  \n",
            "                               Optimizer.step#Adam.step         1.73%       1.409ms         3.48%       2.833ms     944.333us       0.000us         0.00%     588.000us     196.000us             3                                                                                []  \n",
            "                                       cudaLaunchKernel         2.65%       2.161ms         2.65%       2.161ms       8.280us       0.000us         0.00%       0.000us       0.000us           261                                                                                []  \n",
            "                                               aten::to         0.38%     312.000us         1.95%       1.586ms      16.521us       0.000us         0.00%       0.000us       0.000us            96                                                     [[1, 28, 28], [], [], [], []]  \n",
            "                                               aten::eq         0.94%     769.000us         1.75%       1.426ms      14.854us       0.000us         0.00%       0.000us       0.000us            96                                                                         [[1], []]  \n",
            "                                              aten::div         1.01%     824.000us         1.73%       1.405ms      14.635us       0.000us         0.00%       0.000us       0.000us            96                                                                 [[1, 28, 28], []]  \n",
            "                                               aten::to         0.37%     301.000us         1.71%       1.393ms       4.381us       0.000us         0.00%       0.000us       0.000us           318                                                              [[], [], [], [], []]  \n",
            "                                         aten::_to_copy         0.83%     675.000us         1.69%       1.376ms      14.333us       0.000us         0.00%       0.000us       0.000us            96                                             [[1, 28, 28], [], [], [], [], [], []]  \n",
            "                                          aten::randint         1.02%     827.000us         1.64%       1.338ms       6.969us       0.000us         0.00%       0.000us       0.000us           192                                                      [[], [], [], [], [], [], []]  \n",
            "-------------------------------------------------------  ------------  ------------  ------------  ------------  ------------  ------------  ------------  ------------  ------------  ------------  --------------------------------------------------------------------------------  \n",
            "Self CPU time total: 81.424ms\n",
            "Self CUDA time total: 3.433ms\n",
            "\n"
          ]
        }
      ]
    },
    {
      "cell_type": "code",
      "source": [
        "print(prof.key_averages().table(sort_by=\"cuda_time_total\", row_limit=10))"
      ],
      "metadata": {
        "colab": {
          "base_uri": "https://localhost:8080/"
        },
        "id": "YdEGlC6STkLP",
        "outputId": "627d5248-e8a8-463c-e592-e730921d2d35"
      },
      "execution_count": null,
      "outputs": [
        {
          "output_type": "stream",
          "name": "stdout",
          "text": [
            "-------------------------------------------------------  ------------  ------------  ------------  ------------  ------------  ------------  ------------  ------------  ------------  ------------  \n",
            "                                                   Name    Self CPU %      Self CPU   CPU total %     CPU total  CPU time avg     Self CUDA   Self CUDA %    CUDA total  CUDA time avg    # of Calls  \n",
            "-------------------------------------------------------  ------------  ------------  ------------  ------------  ------------  ------------  ------------  ------------  ------------  ------------  \n",
            "                                          ProfilerStep*        10.65%       8.673ms        93.86%      76.424ms      25.475ms       0.000us         0.00%       1.478ms     492.667us             3  \n",
            "autograd::engine::evaluate_function: ConvolutionBack...         0.07%      59.000us         1.25%       1.019ms     169.833us       0.000us         0.00%       1.235ms     205.833us             6  \n",
            "                                   ConvolutionBackward0         0.04%      34.000us         1.18%     960.000us     160.000us       0.000us         0.00%       1.235ms     205.833us             6  \n",
            "                             aten::convolution_backward         0.56%     455.000us         1.14%     926.000us     154.333us       1.075ms        31.31%       1.235ms     205.833us             6  \n",
            "                                           aten::conv2d         0.12%     100.000us         2.60%       2.115ms     176.250us       0.000us         0.00%     622.000us      51.833us            12  \n",
            "                               Optimizer.step#Adam.step         1.73%       1.409ms         3.48%       2.833ms     944.333us       0.000us         0.00%     588.000us     196.000us             3  \n",
            "void wgrad_alg0_engine<__half, 128, 5, 5, 3, 3, 3, f...         0.00%       0.000us         0.00%       0.000us       0.000us     575.000us        16.75%     575.000us     191.667us             3  \n",
            "                                         aten::_to_copy         2.47%       2.014ms         6.43%       5.232ms      12.919us       0.000us         0.00%     486.000us       1.200us           405  \n",
            "                                            aten::copy_         2.03%       1.651ms         3.22%       2.625ms       4.397us     486.000us        14.16%     486.000us       0.814us           597  \n",
            "                                               aten::to         1.23%     998.000us         7.21%       5.869ms       7.327us       0.000us         0.00%     454.000us       0.567us           801  \n",
            "-------------------------------------------------------  ------------  ------------  ------------  ------------  ------------  ------------  ------------  ------------  ------------  ------------  \n",
            "Self CPU time total: 81.424ms\n",
            "Self CUDA time total: 3.433ms\n",
            "\n"
          ]
        }
      ]
    },
    {
      "cell_type": "code",
      "source": [
        "print(prof.key_averages().table(sort_by=\"self_cpu_memory_usage\", row_limit=10))"
      ],
      "metadata": {
        "colab": {
          "base_uri": "https://localhost:8080/"
        },
        "id": "rP-JwEMrTmsi",
        "outputId": "841093e1-3de0-46ee-e56d-d484d9b39a0f"
      },
      "execution_count": null,
      "outputs": [
        {
          "output_type": "stream",
          "name": "stdout",
          "text": [
            "-------------------------------------------------------  ------------  ------------  ------------  ------------  ------------  ------------  ------------  ------------  ------------  ------------  \n",
            "                                                   Name    Self CPU %      Self CPU   CPU total %     CPU total  CPU time avg     Self CUDA   Self CUDA %    CUDA total  CUDA time avg    # of Calls  \n",
            "-------------------------------------------------------  ------------  ------------  ------------  ------------  ------------  ------------  ------------  ------------  ------------  ------------  \n",
            "                                          ProfilerStep*        10.65%       8.673ms        93.86%      76.424ms      25.475ms       0.000us         0.00%       1.478ms     492.667us             3  \n",
            "enumerate(DataLoader)#_SingleProcessDataLoaderIter._...        57.46%      46.788ms        73.35%      59.725ms      19.908ms       0.000us         0.00%       0.000us       0.000us             3  \n",
            "                                           aten::select         1.12%     909.000us         1.28%       1.045ms       5.443us       0.000us         0.00%       0.000us       0.000us           192  \n",
            "                                       aten::as_strided         0.32%     264.000us         0.32%     264.000us       0.772us       0.000us         0.00%       0.000us       0.000us           342  \n",
            "                                             aten::item         0.85%     693.000us         1.03%     836.000us       1.137us       0.000us         0.00%       3.000us       0.004us           735  \n",
            "                              aten::_local_scalar_dense         0.08%      67.000us         0.18%     144.000us       0.196us       3.000us         0.09%       3.000us       0.004us           735  \n",
            "                                           aten::detach         0.32%     263.000us         0.68%     555.000us       4.405us       0.000us         0.00%       0.000us       0.000us           126  \n",
            "                                                 detach         0.37%     303.000us         0.37%     303.000us       2.405us       0.000us         0.00%       0.000us       0.000us           126  \n",
            "                                               aten::to         1.23%     998.000us         7.21%       5.869ms       7.327us       0.000us         0.00%     454.000us       0.567us           801  \n",
            "                                     aten::resolve_conj         0.00%       0.000us         0.00%       0.000us       0.000us       0.000us         0.00%       0.000us       0.000us            96  \n",
            "-------------------------------------------------------  ------------  ------------  ------------  ------------  ------------  ------------  ------------  ------------  ------------  ------------  \n",
            "Self CPU time total: 81.424ms\n",
            "Self CUDA time total: 3.433ms\n",
            "\n"
          ]
        }
      ]
    },
    {
      "cell_type": "code",
      "source": [
        "print(prof.key_averages().table(sort_by=\"cpu_memory_usage\", row_limit=10))"
      ],
      "metadata": {
        "colab": {
          "base_uri": "https://localhost:8080/"
        },
        "id": "XHkeq9EGTo9e",
        "outputId": "c79a1af7-c7d7-4c2e-af60-dd2a4ef26b14"
      },
      "execution_count": null,
      "outputs": [
        {
          "output_type": "stream",
          "name": "stdout",
          "text": [
            "-------------------------------------------------------  ------------  ------------  ------------  ------------  ------------  ------------  ------------  ------------  ------------  ------------  \n",
            "                                                   Name    Self CPU %      Self CPU   CPU total %     CPU total  CPU time avg     Self CUDA   Self CUDA %    CUDA total  CUDA time avg    # of Calls  \n",
            "-------------------------------------------------------  ------------  ------------  ------------  ------------  ------------  ------------  ------------  ------------  ------------  ------------  \n",
            "                                          ProfilerStep*        10.65%       8.673ms        93.86%      76.424ms      25.475ms       0.000us         0.00%       1.478ms     492.667us             3  \n",
            "enumerate(DataLoader)#_SingleProcessDataLoaderIter._...        57.46%      46.788ms        73.35%      59.725ms      19.908ms       0.000us         0.00%       0.000us       0.000us             3  \n",
            "                                           aten::select         1.12%     909.000us         1.28%       1.045ms       5.443us       0.000us         0.00%       0.000us       0.000us           192  \n",
            "                                       aten::as_strided         0.32%     264.000us         0.32%     264.000us       0.772us       0.000us         0.00%       0.000us       0.000us           342  \n",
            "                                             aten::item         0.85%     693.000us         1.03%     836.000us       1.137us       0.000us         0.00%       3.000us       0.004us           735  \n",
            "                              aten::_local_scalar_dense         0.08%      67.000us         0.18%     144.000us       0.196us       3.000us         0.09%       3.000us       0.004us           735  \n",
            "                                           aten::detach         0.32%     263.000us         0.68%     555.000us       4.405us       0.000us         0.00%       0.000us       0.000us           126  \n",
            "                                                 detach         0.37%     303.000us         0.37%     303.000us       2.405us       0.000us         0.00%       0.000us       0.000us           126  \n",
            "                                               aten::to         1.23%     998.000us         7.21%       5.869ms       7.327us       0.000us         0.00%     454.000us       0.567us           801  \n",
            "                                     aten::resolve_conj         0.00%       0.000us         0.00%       0.000us       0.000us       0.000us         0.00%       0.000us       0.000us            96  \n",
            "-------------------------------------------------------  ------------  ------------  ------------  ------------  ------------  ------------  ------------  ------------  ------------  ------------  \n",
            "Self CPU time total: 81.424ms\n",
            "Self CUDA time total: 3.433ms\n",
            "\n"
          ]
        }
      ]
    },
    {
      "cell_type": "code",
      "source": [
        "print(prof.key_averages(group_by_stack_n=5).table(sort_by=\"self_cuda_time_total\", row_limit=2))"
      ],
      "metadata": {
        "colab": {
          "base_uri": "https://localhost:8080/"
        },
        "id": "YU3PY2-4TrOs",
        "outputId": "769a9f28-963e-43ff-f399-56c84ee1ce5e"
      },
      "execution_count": null,
      "outputs": [
        {
          "output_type": "stream",
          "name": "stdout",
          "text": [
            "-------------------------------------------------------  ------------  ------------  ------------  ------------  ------------  ------------  ------------  ------------  ------------  ------------  \n",
            "                                                   Name    Self CPU %      Self CPU   CPU total %     CPU total  CPU time avg     Self CUDA   Self CUDA %    CUDA total  CUDA time avg    # of Calls  \n",
            "-------------------------------------------------------  ------------  ------------  ------------  ------------  ------------  ------------  ------------  ------------  ------------  ------------  \n",
            "                             aten::convolution_backward         0.56%     455.000us         1.14%     926.000us     154.333us       1.075ms        31.31%       1.235ms     205.833us             6  \n",
            "void wgrad_alg0_engine<__half, 128, 5, 5, 3, 3, 3, f...         0.00%       0.000us         0.00%       0.000us       0.000us     575.000us        16.75%     575.000us     191.667us             3  \n",
            "-------------------------------------------------------  ------------  ------------  ------------  ------------  ------------  ------------  ------------  ------------  ------------  ------------  \n",
            "Self CPU time total: 81.424ms\n",
            "Self CUDA time total: 3.433ms\n",
            "\n"
          ]
        }
      ]
    },
    {
      "cell_type": "code",
      "source": [
        "from google.colab import drive\n",
        "drive.mount('/content/drive')"
      ],
      "metadata": {
        "colab": {
          "base_uri": "https://localhost:8080/"
        },
        "id": "_2B5T1odTuuk",
        "outputId": "32e46c14-0aae-4d96-e0b2-dfa7899d1c83"
      },
      "execution_count": null,
      "outputs": [
        {
          "output_type": "stream",
          "name": "stdout",
          "text": [
            "Mounted at /content/drive\n"
          ]
        }
      ]
    },
    {
      "cell_type": "code",
      "source": [
        "!mv /content/log /content/drive/MyDrive"
      ],
      "metadata": {
        "id": "tFM2ACVyUFrR"
      },
      "execution_count": null,
      "outputs": []
    },
    {
      "cell_type": "code",
      "source": [],
      "metadata": {
        "id": "IfrXPibHUWQ-"
      },
      "execution_count": null,
      "outputs": []
    }
  ]
}