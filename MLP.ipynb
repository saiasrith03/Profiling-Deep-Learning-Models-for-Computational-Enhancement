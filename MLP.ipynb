{
  "nbformat": 4,
  "nbformat_minor": 0,
  "metadata": {
    "colab": {
      "provenance": [],
      "gpuType": "T4"
    },
    "kernelspec": {
      "name": "python3",
      "display_name": "Python 3"
    },
    "language_info": {
      "name": "python"
    },
    "accelerator": "GPU"
  },
  "cells": [
    {
      "cell_type": "code",
      "execution_count": null,
      "metadata": {
        "id": "Bk7sN8VkI92B"
      },
      "outputs": [],
      "source": [
        "%matplotlib inline"
      ]
    },
    {
      "cell_type": "code",
      "source": [
        "import torch\n",
        "import torch.optim\n",
        "import torch.profiler\n",
        "import torch.utils.data\n",
        "import torchvision.datasets\n",
        "import torchvision.models\n",
        "import torchvision.transforms as T\n",
        "import torch\n",
        "import torch.nn as nn\n",
        "import torch.nn.functional as F\n",
        "import torch.optim as optim\n",
        "import torch.utils.data as data\n",
        "\n",
        "import torchvision.transforms as transforms\n",
        "import torchvision.datasets as datasets\n",
        "import torch.optim\n",
        "import torch.profiler\n",
        "\n",
        "from sklearn import metrics\n",
        "from sklearn import decomposition\n",
        "from sklearn import manifold\n",
        "from tqdm.notebook import trange, tqdm\n",
        "import matplotlib.pyplot as plt\n",
        "import numpy as np\n",
        "\n",
        "import copy\n",
        "import random\n",
        "import time"
      ],
      "metadata": {
        "id": "hhb07nn6I--X"
      },
      "execution_count": null,
      "outputs": []
    },
    {
      "cell_type": "code",
      "source": [
        "ROOT = '.data'\n",
        "\n",
        "train_data = datasets.MNIST(root=ROOT,\n",
        "                            train=True,\n",
        "                            download=True)\n",
        "\n",
        "mean = train_data.data.float().mean() / 255\n",
        "std = train_data.data.float().std() / 255"
      ],
      "metadata": {
        "id": "z7HxUX4Zcyqj"
      },
      "execution_count": null,
      "outputs": []
    },
    {
      "cell_type": "code",
      "source": [
        "train_transforms = T.Compose([\n",
        "                            T.RandomRotation(5, fill=(0,)),\n",
        "                            T.RandomCrop(28, padding=2),\n",
        "                            T.ToTensor(),\n",
        "                            T.Normalize(mean=[mean], std=[std])\n",
        "                                      ])\n",
        "\n",
        "test_transforms = T.Compose([\n",
        "                           T.ToTensor(),\n",
        "                           T.Normalize(mean=[mean], std=[std])\n",
        "                                     ])\n",
        "train_set = torchvision.datasets.MNIST(root='./data', train=True, download=True, transform=train_transforms)\n",
        "test_set = torchvision.datasets.MNIST(root='./data', train=False, download=True, transform=test_transforms)\n",
        "train_loader = torch.utils.data.DataLoader(train_set, batch_size=32, shuffle=True)\n",
        "test_loader = torch.utils.data.DataLoader(test_set, batch_size=32, shuffle=False)"
      ],
      "metadata": {
        "colab": {
          "base_uri": "https://localhost:8080/"
        },
        "id": "JagmrhFZI-50",
        "outputId": "a8fa986b-ca97-4572-9f37-a4e48271a775"
      },
      "execution_count": null,
      "outputs": [
        {
          "output_type": "stream",
          "name": "stdout",
          "text": [
            "Downloading http://yann.lecun.com/exdb/mnist/train-images-idx3-ubyte.gz\n",
            "Downloading http://yann.lecun.com/exdb/mnist/train-images-idx3-ubyte.gz to ./data/MNIST/raw/train-images-idx3-ubyte.gz\n"
          ]
        },
        {
          "output_type": "stream",
          "name": "stderr",
          "text": [
            "100%|██████████| 9912422/9912422 [00:00<00:00, 101511627.54it/s]\n"
          ]
        },
        {
          "output_type": "stream",
          "name": "stdout",
          "text": [
            "Extracting ./data/MNIST/raw/train-images-idx3-ubyte.gz to ./data/MNIST/raw\n",
            "\n",
            "Downloading http://yann.lecun.com/exdb/mnist/train-labels-idx1-ubyte.gz\n",
            "Downloading http://yann.lecun.com/exdb/mnist/train-labels-idx1-ubyte.gz to ./data/MNIST/raw/train-labels-idx1-ubyte.gz\n"
          ]
        },
        {
          "output_type": "stream",
          "name": "stderr",
          "text": [
            "100%|██████████| 28881/28881 [00:00<00:00, 6629217.63it/s]\n"
          ]
        },
        {
          "output_type": "stream",
          "name": "stdout",
          "text": [
            "Extracting ./data/MNIST/raw/train-labels-idx1-ubyte.gz to ./data/MNIST/raw\n",
            "\n",
            "Downloading http://yann.lecun.com/exdb/mnist/t10k-images-idx3-ubyte.gz\n",
            "Downloading http://yann.lecun.com/exdb/mnist/t10k-images-idx3-ubyte.gz to ./data/MNIST/raw/t10k-images-idx3-ubyte.gz\n"
          ]
        },
        {
          "output_type": "stream",
          "name": "stderr",
          "text": [
            "100%|██████████| 1648877/1648877 [00:00<00:00, 29979805.35it/s]\n"
          ]
        },
        {
          "output_type": "stream",
          "name": "stdout",
          "text": [
            "Extracting ./data/MNIST/raw/t10k-images-idx3-ubyte.gz to ./data/MNIST/raw\n",
            "\n",
            "Downloading http://yann.lecun.com/exdb/mnist/t10k-labels-idx1-ubyte.gz\n",
            "Downloading http://yann.lecun.com/exdb/mnist/t10k-labels-idx1-ubyte.gz to ./data/MNIST/raw/t10k-labels-idx1-ubyte.gz\n"
          ]
        },
        {
          "output_type": "stream",
          "name": "stderr",
          "text": [
            "100%|██████████| 4542/4542 [00:00<00:00, 1448709.41it/s]"
          ]
        },
        {
          "output_type": "stream",
          "name": "stdout",
          "text": [
            "Extracting ./data/MNIST/raw/t10k-labels-idx1-ubyte.gz to ./data/MNIST/raw\n",
            "\n"
          ]
        },
        {
          "output_type": "stream",
          "name": "stderr",
          "text": [
            "\n"
          ]
        }
      ]
    },
    {
      "cell_type": "code",
      "source": [
        "device = torch.device('cuda' if torch.cuda.is_available() else 'cpu')"
      ],
      "metadata": {
        "id": "Icd24fCHI-1A"
      },
      "execution_count": null,
      "outputs": []
    },
    {
      "cell_type": "code",
      "source": [
        "class MLP(nn.Module):\n",
        "    def __init__(self, input_dim, output_dim):\n",
        "        super().__init__()\n",
        "\n",
        "        self.input_fc = nn.Linear(input_dim, 250)\n",
        "        self.hidden_fc = nn.Linear(250, 100)\n",
        "        self.output_fc = nn.Linear(100, output_dim)\n",
        "\n",
        "    def forward(self, x):\n",
        "\n",
        "        # x = [batch size, height, width]\n",
        "\n",
        "        batch_size = x.shape[0]\n",
        "\n",
        "        x = x.view(batch_size, -1)\n",
        "\n",
        "        # x = [batch size, height * width]\n",
        "\n",
        "        h_1 = F.relu(self.input_fc(x))\n",
        "\n",
        "        # h_1 = [batch size, 250]\n",
        "\n",
        "        h_2 = F.relu(self.hidden_fc(h_1))\n",
        "\n",
        "        # h_2 = [batch size, 100]\n",
        "\n",
        "        y_pred = self.output_fc(h_2)\n",
        "\n",
        "        # y_pred = [batch size, output dim]\n",
        "\n",
        "        return y_pred, h_2"
      ],
      "metadata": {
        "id": "OhF1TjOEI-yI"
      },
      "execution_count": null,
      "outputs": []
    },
    {
      "cell_type": "code",
      "source": [
        "INPUT_DIM = 28 * 28\n",
        "OUTPUT_DIM = 10\n",
        "\n",
        "model = MLP(INPUT_DIM, OUTPUT_DIM)"
      ],
      "metadata": {
        "id": "1RmdkR1vJJHL"
      },
      "execution_count": null,
      "outputs": []
    },
    {
      "cell_type": "code",
      "source": [
        "optimizer = optim.Adam(model.parameters())\n",
        "criterion = nn.CrossEntropyLoss()\n",
        "model = model.to(device)\n",
        "criterion = criterion.to(device)"
      ],
      "metadata": {
        "id": "wgPrmWthJKsY"
      },
      "execution_count": null,
      "outputs": []
    },
    {
      "cell_type": "markdown",
      "source": [
        "Profiling"
      ],
      "metadata": {
        "id": "sJ27GdzZQvKs"
      }
    },
    {
      "cell_type": "code",
      "source": [
        "model.train()"
      ],
      "metadata": {
        "colab": {
          "base_uri": "https://localhost:8080/"
        },
        "id": "Sh9upIVcJMGh",
        "outputId": "fcf9379e-3182-47eb-ef68-1259aab77136"
      },
      "execution_count": null,
      "outputs": [
        {
          "output_type": "execute_result",
          "data": {
            "text/plain": [
              "MLP(\n",
              "  (input_fc): Linear(in_features=784, out_features=250, bias=True)\n",
              "  (hidden_fc): Linear(in_features=250, out_features=100, bias=True)\n",
              "  (output_fc): Linear(in_features=100, out_features=10, bias=True)\n",
              ")"
            ]
          },
          "metadata": {},
          "execution_count": 9
        }
      ]
    },
    {
      "cell_type": "code",
      "source": [
        "def train(data):\n",
        "    #print(data)\n",
        "    inputs, labels = data[0].to(device=device), data[1].to(device=device)\n",
        "    outputs,_ = model(inputs)\n",
        "    loss = criterion(outputs, labels)\n",
        "    optimizer.zero_grad()\n",
        "    loss.backward()\n",
        "    optimizer.step()"
      ],
      "metadata": {
        "id": "bYCI8p9EJNyo"
      },
      "execution_count": null,
      "outputs": []
    },
    {
      "cell_type": "code",
      "source": [
        "prof = torch.profiler.profile(\n",
        "        schedule=torch.profiler.schedule(wait=1, warmup=1, active=3, repeat=2),\n",
        "        on_trace_ready=torch.profiler.tensorboard_trace_handler('./log/mlp'),\n",
        "        record_shapes=True,\n",
        "        with_stack=True)\n",
        "prof.start()\n",
        "for step, batch_data in enumerate(train_loader):\n",
        "    if step >= (1 + 1 + 3) * 2:\n",
        "        break\n",
        "    train(batch_data)\n",
        "    prof.step()\n",
        "prof.stop()"
      ],
      "metadata": {
        "id": "REm5F7BbJPQc"
      },
      "execution_count": null,
      "outputs": []
    },
    {
      "cell_type": "code",
      "source": [
        "print(prof.key_averages())"
      ],
      "metadata": {
        "colab": {
          "base_uri": "https://localhost:8080/"
        },
        "id": "Lkea-OeNJRHv",
        "outputId": "29220b33-22d8-40a5-e20d-a390e3646075"
      },
      "execution_count": null,
      "outputs": [
        {
          "output_type": "stream",
          "name": "stdout",
          "text": [
            "-------------------------------------------------------  ------------  ------------  ------------  ------------  ------------  ------------  ------------  ------------  ------------  ------------  \n",
            "                                                   Name    Self CPU %      Self CPU   CPU total %     CPU total  CPU time avg     Self CUDA   Self CUDA %    CUDA total  CUDA time avg    # of Calls  \n",
            "-------------------------------------------------------  ------------  ------------  ------------  ------------  ------------  ------------  ------------  ------------  ------------  ------------  \n",
            "                                          ProfilerStep*         5.21%       3.654ms        97.47%      68.335ms      22.778ms       0.000us         0.00%       1.162ms     387.333us             3  \n",
            "enumerate(DataLoader)#_SingleProcessDataLoaderIter._...        67.03%      46.995ms        86.15%      60.399ms      20.133ms       0.000us         0.00%       0.000us       0.000us             3  \n",
            "                                           aten::select         1.47%       1.030ms         1.69%       1.184ms       6.167us       0.000us         0.00%       0.000us       0.000us           192  \n",
            "                                       aten::as_strided         0.40%     281.000us         0.40%     281.000us       0.852us       0.000us         0.00%       0.000us       0.000us           330  \n",
            "                                             aten::item         0.86%     600.000us         0.87%     612.000us       1.186us       0.000us         0.00%       0.000us       0.000us           516  \n",
            "                              aten::_local_scalar_dense         0.02%      15.000us         0.02%      15.000us       0.029us       0.000us         0.00%       0.000us       0.000us           516  \n",
            "                                           aten::detach         0.36%     251.000us         1.11%     775.000us       6.798us       0.000us         0.00%       0.000us       0.000us           114  \n",
            "                                                 detach         0.76%     536.000us         0.76%     536.000us       4.702us       0.000us         0.00%       0.000us       0.000us           114  \n",
            "                                               aten::to         0.93%     653.000us         4.52%       3.172ms       4.519us       0.000us         0.00%      34.000us       0.048us           702  \n",
            "                                     aten::resolve_conj         0.00%       0.000us         0.00%       0.000us       0.000us       0.000us         0.00%       0.000us       0.000us            96  \n",
            "                                      aten::resolve_neg         0.00%       0.000us         0.00%       0.000us       0.000us       0.000us         0.00%       0.000us       0.000us            96  \n",
            "                                            aten::empty         0.85%     599.000us         0.85%     599.000us       1.217us       0.000us         0.00%       0.000us       0.000us           492  \n",
            "                                         aten::uniform_         0.60%     420.000us         0.60%     420.000us       4.375us       0.000us         0.00%       0.000us       0.000us            96  \n",
            "                                          aten::randint         1.29%     903.000us         2.00%       1.404ms       7.312us       0.000us         0.00%       0.000us       0.000us           192  \n",
            "                                          aten::random_         0.46%     322.000us         0.46%     322.000us       1.677us       0.000us         0.00%       0.000us       0.000us           192  \n",
            "                                       aten::lift_fresh         0.16%     112.000us         0.16%     112.000us       0.385us       0.000us         0.00%       0.000us       0.000us           291  \n",
            "                                             aten::view         1.12%     783.000us         1.12%     783.000us       1.962us       0.000us         0.00%       0.000us       0.000us           399  \n",
            "                                          aten::permute         0.73%     513.000us         0.88%     616.000us       6.417us       0.000us         0.00%       0.000us       0.000us            96  \n",
            "                                         aten::_to_copy         1.93%       1.350ms         3.84%       2.690ms       8.622us       0.000us         0.00%      34.000us       0.109us           312  \n",
            "                                    aten::empty_strided         1.06%     740.000us         1.06%     740.000us       1.655us       0.000us         0.00%       0.000us       0.000us           447  \n",
            "                                            aten::copy_         1.28%     894.000us         1.61%       1.130ms       2.242us      34.000us         2.21%      34.000us       0.067us           504  \n",
            "                                              aten::div         1.31%     916.000us         2.18%       1.525ms      15.885us       0.000us         0.00%       0.000us       0.000us            96  \n",
            "                                            aten::clone         0.72%     505.000us         1.07%     749.000us       7.802us       0.000us         0.00%       0.000us       0.000us            96  \n",
            "                                               aten::eq         1.06%     742.000us         1.91%       1.336ms      13.917us       0.000us         0.00%       0.000us       0.000us            96  \n",
            "                                              aten::any         0.93%     650.000us         1.39%     973.000us      10.135us       0.000us         0.00%       0.000us       0.000us            96  \n",
            "                                          aten::view_as         0.20%     140.000us         0.29%     201.000us       2.094us       0.000us         0.00%       0.000us       0.000us            96  \n",
            "                                       aten::is_nonzero         0.26%     184.000us         0.46%     320.000us       3.333us       0.000us         0.00%       0.000us       0.000us            96  \n",
            "                                             aten::sub_         0.71%     496.000us         0.71%     496.000us       5.167us       0.000us         0.00%       0.000us       0.000us            96  \n",
            "                                             aten::div_         0.37%     256.000us         0.37%     256.000us       2.667us       0.000us         0.00%       0.000us       0.000us            96  \n",
            "                                            aten::stack         0.09%      65.000us         0.20%     140.000us      46.667us       0.000us         0.00%       0.000us       0.000us             3  \n",
            "                                              aten::cat         0.10%      72.000us         0.10%      72.000us      24.000us       0.000us         0.00%       0.000us       0.000us             3  \n",
            "                                          aten::detach_         0.01%       5.000us         0.01%       7.000us       2.333us       0.000us         0.00%       0.000us       0.000us             3  \n",
            "                                                detach_         0.00%       3.000us         0.00%       3.000us       1.000us       0.000us         0.00%       0.000us       0.000us             3  \n",
            "                                        cudaMemcpyAsync         0.23%     163.000us         0.23%     163.000us      27.167us       0.000us         0.00%       0.000us       0.000us             6  \n",
            "                       Memcpy HtoD (Pageable -> Device)         0.00%       0.000us         0.00%       0.000us       0.000us      34.000us         2.21%      34.000us       5.667us             6  \n",
            "                                  cudaStreamSynchronize         0.10%      73.000us         0.10%      73.000us      12.167us       0.000us         0.00%       0.000us       0.000us             6  \n",
            "                                           aten::linear         0.08%      53.000us         1.18%     828.000us      92.000us       0.000us         0.00%     213.000us      23.667us             9  \n",
            "                                                aten::t         0.18%     129.000us         0.37%     261.000us       6.214us       0.000us         0.00%       0.000us       0.000us            42  \n",
            "                                        aten::transpose         0.15%     108.000us         0.18%     128.000us       3.048us       0.000us         0.00%       0.000us       0.000us            42  \n",
            "                                            aten::addmm         0.64%     447.000us         0.95%     667.000us      74.111us     213.000us        13.84%     213.000us      23.667us             9  \n",
            "          cudaOccupancyMaxActiveBlocksPerMultiprocessor         0.03%      20.000us         0.03%      20.000us       0.952us       0.000us         0.00%       0.000us       0.000us            21  \n",
            "                                       cudaLaunchKernel         1.18%     825.000us         1.18%     825.000us       9.167us       0.000us         0.00%       0.000us       0.000us            90  \n",
            "                                  volta_sgemm_128x32_tn         0.00%       0.000us         0.00%       0.000us       0.000us      72.000us         4.68%      72.000us      24.000us             3  \n",
            "void splitKreduce_kernel<32, 16, int, float, float, ...         0.00%       0.000us         0.00%       0.000us       0.000us      21.000us         1.36%      21.000us       7.000us             3  \n",
            "                                             aten::relu         0.11%      75.000us         0.32%     224.000us      37.333us       0.000us         0.00%      24.000us       4.000us             6  \n",
            "                                        aten::clamp_min         0.14%      96.000us         0.21%     149.000us      24.833us      24.000us         1.56%      24.000us       4.000us             6  \n",
            "void at::native::vectorized_elementwise_kernel<4, at...         0.00%       0.000us         0.00%       0.000us       0.000us      24.000us         1.56%      24.000us       4.000us             6  \n",
            "                         volta_sgemm_32x32_sliced1x4_tn         0.00%       0.000us         0.00%       0.000us       0.000us     120.000us         7.80%     120.000us      20.000us             6  \n",
            "                               aten::cross_entropy_loss        -0.02%     -14.000us         0.34%     241.000us      80.333us       0.000us         0.00%      30.000us      10.000us             3  \n",
            "                                      aten::log_softmax         0.03%      18.000us         0.17%     121.000us      40.333us       0.000us         0.00%      15.000us       5.000us             3  \n",
            "                                     aten::_log_softmax         0.11%      75.000us         0.15%     103.000us      34.333us      15.000us         0.97%      15.000us       5.000us             3  \n",
            "void (anonymous namespace)::softmax_warp_forward<flo...         0.00%       0.000us         0.00%       0.000us       0.000us      15.000us         0.97%      15.000us       5.000us             3  \n",
            "                                      aten::nll_loss_nd         0.05%      38.000us         0.15%     104.000us      34.667us       0.000us         0.00%      10.000us       3.333us             3  \n",
            "                                         aten::nll_loss         0.02%      11.000us         0.14%      96.000us      32.000us       0.000us         0.00%      15.000us       5.000us             3  \n",
            "                                 aten::nll_loss_forward         0.09%      64.000us         0.12%      85.000us      28.333us      15.000us         0.97%      15.000us       5.000us             3  \n",
            "                                          aten::resize_         0.00%       0.000us         0.00%       0.000us       0.000us       0.000us         0.00%       0.000us       0.000us             3  \n",
            "void at::native::(anonymous namespace)::nll_loss_for...         0.00%       0.000us         0.00%       0.000us       0.000us      15.000us         0.97%      15.000us       5.000us             3  \n",
            "                     Optimizer.zero_grad#Adam.zero_grad         0.19%     136.000us         0.19%     136.000us      45.333us       0.000us         0.00%       0.000us       0.000us             3  \n",
            "                                        aten::ones_like         0.03%      18.000us         0.17%     118.000us      39.333us       0.000us         0.00%       9.000us       3.000us             3  \n",
            "                                       aten::empty_like         0.02%      11.000us         0.05%      37.000us      12.333us       0.000us         0.00%       0.000us       0.000us             3  \n",
            "                                            aten::fill_         0.10%      70.000us         0.22%     157.000us      26.167us      18.000us         1.17%      18.000us       3.000us             6  \n",
            "void at::native::vectorized_elementwise_kernel<4, at...         0.00%       0.000us         0.00%       0.000us       0.000us      18.000us         1.17%      18.000us       3.000us             6  \n",
            "autograd::engine::evaluate_function: NllLossBackward...         0.07%      50.000us         0.42%     291.000us      97.000us       0.000us         0.00%      24.000us       8.000us             3  \n",
            "                                       NllLossBackward0         0.06%      43.000us         0.34%     241.000us      80.333us       0.000us         0.00%      24.000us       8.000us             3  \n",
            "                                aten::nll_loss_backward         0.11%      75.000us         0.28%     198.000us      66.000us      15.000us         0.97%      24.000us       8.000us             3  \n",
            "                                            aten::zero_         0.02%      11.000us         0.15%     105.000us      35.000us       0.000us         0.00%       9.000us       3.000us             3  \n",
            "void at::native::(anonymous namespace)::nll_loss_bac...         0.00%       0.000us         0.00%       0.000us       0.000us      15.000us         0.97%      15.000us       5.000us             3  \n",
            "autograd::engine::evaluate_function: LogSoftmaxBackw...         0.02%      16.000us         0.12%      87.000us      29.000us       0.000us         0.00%      12.000us       4.000us             3  \n",
            "                                    LogSoftmaxBackward0         0.02%      17.000us         0.10%      71.000us      23.667us       0.000us         0.00%      12.000us       4.000us             3  \n",
            "                       aten::_log_softmax_backward_data         0.05%      34.000us         0.08%      54.000us      18.000us      12.000us         0.78%      12.000us       4.000us             3  \n",
            "void (anonymous namespace)::softmax_warp_backward<fl...         0.00%       0.000us         0.00%       0.000us       0.000us      12.000us         0.78%      12.000us       4.000us             3  \n",
            "    autograd::engine::evaluate_function: AddmmBackward0         0.18%     129.000us         1.41%     989.000us     109.889us       0.000us         0.00%     317.000us      35.222us             9  \n",
            "                                         AddmmBackward0         0.15%     104.000us         0.89%     627.000us      69.667us       0.000us         0.00%     205.000us      22.778us             9  \n",
            "                                               aten::mm         0.44%     309.000us         0.58%     408.000us      27.200us     205.000us        13.32%     205.000us      13.667us            15  \n",
            "                                  volta_sgemm_128x32_nn         0.00%       0.000us         0.00%       0.000us       0.000us      33.000us         2.14%      33.000us      11.000us             3  \n",
            "                         volta_sgemm_32x32_sliced1x4_nt         0.00%       0.000us         0.00%       0.000us       0.000us      67.000us         4.35%      67.000us      11.167us             6  \n",
            "                                              aten::sum         0.20%     141.000us         0.31%     218.000us      24.222us     112.000us         7.28%     112.000us      12.444us             9  \n",
            "void at::native::reduce_kernel<256, 2, at::native::R...         0.00%       0.000us         0.00%       0.000us       0.000us      73.000us         4.74%      73.000us      12.167us             6  \n",
            "autograd::engine::evaluate_function: torch::autograd...         0.09%      60.000us         0.20%     139.000us       7.722us       0.000us         0.00%       0.000us       0.000us            18  \n",
            "                        torch::autograd::AccumulateGrad         0.05%      36.000us         0.11%      74.000us       4.111us       0.000us         0.00%       0.000us       0.000us            18  \n",
            "        autograd::engine::evaluate_function: TBackward0         0.05%      32.000us         0.11%      80.000us       8.889us       0.000us         0.00%       0.000us       0.000us             9  \n",
            "                                             TBackward0         0.01%      10.000us         0.07%      48.000us       5.333us       0.000us         0.00%       0.000us       0.000us             9  \n",
            "     autograd::engine::evaluate_function: ReluBackward0         0.04%      30.000us         0.25%     177.000us      29.500us       0.000us         0.00%      24.000us       4.000us             6  \n",
            "                                          ReluBackward0         0.03%      19.000us         0.21%     147.000us      24.500us       0.000us         0.00%      24.000us       4.000us             6  \n",
            "                               aten::threshold_backward         0.11%      79.000us         0.18%     128.000us      21.333us      24.000us         1.56%      24.000us       4.000us             6  \n",
            "void at::native::vectorized_elementwise_kernel<4, at...         0.00%       0.000us         0.00%       0.000us       0.000us      24.000us         1.56%      24.000us       4.000us             6  \n",
            "                         volta_sgemm_32x32_sliced1x4_nn         0.00%       0.000us         0.00%       0.000us       0.000us      48.000us         3.12%      48.000us      16.000us             3  \n",
            "void at::native::reduce_kernel<128, 4, at::native::R...         0.00%       0.000us         0.00%       0.000us       0.000us      39.000us         2.53%      39.000us      13.000us             3  \n",
            "                                  volta_sgemm_128x32_nt         0.00%       0.000us         0.00%       0.000us       0.000us      57.000us         3.70%      57.000us      19.000us             3  \n",
            "                               Optimizer.step#Adam.step         1.75%       1.230ms         3.25%       2.280ms     760.000us       0.000us         0.00%     852.000us     284.000us             3  \n",
            "                                  cudaStreamIsCapturing         0.00%       3.000us         0.00%       3.000us       1.000us       0.000us         0.00%       0.000us       0.000us             3  \n",
            "                                    aten::_foreach_add_         0.09%      64.000us         0.43%     298.000us      49.667us     106.000us         6.89%     106.000us      17.667us             6  \n",
            "                                             aten::add_         0.14%      98.000us         0.30%     209.000us      11.000us       0.000us         0.00%       0.000us       0.000us            19  \n",
            "                                    aten::_foreach_mul_         0.14%     101.000us         0.24%     168.000us      28.000us     182.000us        11.83%     182.000us      30.333us             6  \n",
            "                                      aten::result_type         0.00%       0.000us         0.00%       0.000us       0.000us       0.000us         0.00%       0.000us       0.000us           126  \n",
            "void at::native::(anonymous namespace)::multi_tensor...         0.00%       0.000us         0.00%       0.000us       0.000us     182.000us        11.83%     182.000us      30.333us             6  \n",
            "void at::native::(anonymous namespace)::multi_tensor...         0.00%       0.000us         0.00%       0.000us       0.000us     106.000us         6.89%     106.000us      35.333us             3  \n",
            "                                aten::_foreach_addcmul_         0.06%      45.000us         0.12%      83.000us      27.667us     105.000us         6.82%     105.000us      35.000us             3  \n",
            "void at::native::(anonymous namespace)::multi_tensor...         0.00%       0.000us         0.00%       0.000us       0.000us     105.000us         6.82%     105.000us      35.000us             3  \n",
            "                                    aten::_foreach_sqrt         0.10%      72.000us         0.25%     174.000us      58.000us     112.000us         7.28%     112.000us      37.333us             3  \n",
            "-------------------------------------------------------  ------------  ------------  ------------  ------------  ------------  ------------  ------------  ------------  ------------  ------------  \n",
            "Self CPU time total: 70.108ms\n",
            "Self CUDA time total: 1.539ms\n",
            "\n"
          ]
        }
      ]
    },
    {
      "cell_type": "code",
      "source": [
        "print(prof.key_averages().table(sort_by=\"cpu_time_total\", row_limit=10))"
      ],
      "metadata": {
        "colab": {
          "base_uri": "https://localhost:8080/"
        },
        "id": "f1tpbBjuJbtw",
        "outputId": "6fb0e85c-becb-48f9-bb52-2fa4612f1ec0"
      },
      "execution_count": null,
      "outputs": [
        {
          "output_type": "stream",
          "name": "stdout",
          "text": [
            "-------------------------------------------------------  ------------  ------------  ------------  ------------  ------------  ------------  ------------  ------------  ------------  ------------  \n",
            "                                                   Name    Self CPU %      Self CPU   CPU total %     CPU total  CPU time avg     Self CUDA   Self CUDA %    CUDA total  CUDA time avg    # of Calls  \n",
            "-------------------------------------------------------  ------------  ------------  ------------  ------------  ------------  ------------  ------------  ------------  ------------  ------------  \n",
            "                                          ProfilerStep*         5.21%       3.654ms        97.47%      68.335ms      22.778ms       0.000us         0.00%       1.162ms     387.333us             3  \n",
            "enumerate(DataLoader)#_SingleProcessDataLoaderIter._...        67.03%      46.995ms        86.15%      60.399ms      20.133ms       0.000us         0.00%       0.000us       0.000us             3  \n",
            "                                               aten::to         0.93%     653.000us         4.52%       3.172ms       4.519us       0.000us         0.00%      34.000us       0.048us           702  \n",
            "                                         aten::_to_copy         1.93%       1.350ms         3.84%       2.690ms       8.622us       0.000us         0.00%      34.000us       0.109us           312  \n",
            "                               Optimizer.step#Adam.step         1.75%       1.230ms         3.25%       2.280ms     760.000us       0.000us         0.00%     852.000us     284.000us             3  \n",
            "                                              aten::div         1.31%     916.000us         2.18%       1.525ms      15.885us       0.000us         0.00%       0.000us       0.000us            96  \n",
            "                                          aten::randint         1.29%     903.000us         2.00%       1.404ms       7.312us       0.000us         0.00%       0.000us       0.000us           192  \n",
            "                                               aten::eq         1.06%     742.000us         1.91%       1.336ms      13.917us       0.000us         0.00%       0.000us       0.000us            96  \n",
            "                                           aten::select         1.47%       1.030ms         1.69%       1.184ms       6.167us       0.000us         0.00%       0.000us       0.000us           192  \n",
            "                                            aten::copy_         1.28%     894.000us         1.61%       1.130ms       2.242us      34.000us         2.21%      34.000us       0.067us           504  \n",
            "-------------------------------------------------------  ------------  ------------  ------------  ------------  ------------  ------------  ------------  ------------  ------------  ------------  \n",
            "Self CPU time total: 70.108ms\n",
            "Self CUDA time total: 1.539ms\n",
            "\n"
          ]
        }
      ]
    },
    {
      "cell_type": "code",
      "source": [
        "print(prof.key_averages(group_by_input_shape=True).table(sort_by=\"cpu_time_total\", row_limit=10))"
      ],
      "metadata": {
        "colab": {
          "base_uri": "https://localhost:8080/"
        },
        "id": "eG-JUCXGJe2b",
        "outputId": "a45baf76-9930-4569-b25d-d8180985f574"
      },
      "execution_count": null,
      "outputs": [
        {
          "output_type": "stream",
          "name": "stdout",
          "text": [
            "-------------------------------------------------------  ------------  ------------  ------------  ------------  ------------  ------------  ------------  ------------  ------------  ------------  -------------------------------------------------  \n",
            "                                                   Name    Self CPU %      Self CPU   CPU total %     CPU total  CPU time avg     Self CUDA   Self CUDA %    CUDA total  CUDA time avg    # of Calls                                       Input Shapes  \n",
            "-------------------------------------------------------  ------------  ------------  ------------  ------------  ------------  ------------  ------------  ------------  ------------  ------------  -------------------------------------------------  \n",
            "                                          ProfilerStep*         5.21%       3.654ms        97.47%      68.335ms      22.778ms       0.000us         0.00%       1.162ms     387.333us             3                                                 []  \n",
            "enumerate(DataLoader)#_SingleProcessDataLoaderIter._...        67.03%      46.995ms        86.15%      60.399ms      20.133ms       0.000us         0.00%       0.000us       0.000us             3                                                 []  \n",
            "                               Optimizer.step#Adam.step         1.75%       1.230ms         3.25%       2.280ms     760.000us       0.000us         0.00%     852.000us     284.000us             3                                                 []  \n",
            "                                              aten::div         1.31%     916.000us         2.18%       1.525ms      15.885us       0.000us         0.00%       0.000us       0.000us            96                                  [[1, 28, 28], []]  \n",
            "                                               aten::to         0.46%     321.000us         2.04%       1.432ms      14.917us       0.000us         0.00%       0.000us       0.000us            96                      [[1, 28, 28], [], [], [], []]  \n",
            "                                          aten::randint         1.29%     903.000us         2.00%       1.404ms       7.312us       0.000us         0.00%       0.000us       0.000us           192                       [[], [], [], [], [], [], []]  \n",
            "                                               aten::eq         1.06%     742.000us         1.91%       1.336ms      13.917us       0.000us         0.00%       0.000us       0.000us            96                                          [[1], []]  \n",
            "                                               aten::to         0.37%     256.000us         1.83%       1.281ms       4.186us       0.000us         0.00%       0.000us       0.000us           306                               [[], [], [], [], []]  \n",
            "                                         aten::_to_copy         0.88%     620.000us         1.81%       1.266ms      13.188us       0.000us         0.00%       0.000us       0.000us            96              [[1, 28, 28], [], [], [], [], [], []]  \n",
            "                                         aten::_to_copy         0.98%     688.000us         1.48%       1.041ms       4.957us       0.000us         0.00%       0.000us       0.000us           210                       [[], [], [], [], [], [], []]  \n",
            "-------------------------------------------------------  ------------  ------------  ------------  ------------  ------------  ------------  ------------  ------------  ------------  ------------  -------------------------------------------------  \n",
            "Self CPU time total: 70.108ms\n",
            "Self CUDA time total: 1.539ms\n",
            "\n"
          ]
        }
      ]
    },
    {
      "cell_type": "code",
      "source": [
        "print(prof.key_averages().table(sort_by=\"cuda_time_total\", row_limit=10))"
      ],
      "metadata": {
        "colab": {
          "base_uri": "https://localhost:8080/"
        },
        "id": "EYs1AetHJhUr",
        "outputId": "77f341f7-8cd9-4421-d158-c037cf53a29c"
      },
      "execution_count": null,
      "outputs": [
        {
          "output_type": "stream",
          "name": "stdout",
          "text": [
            "-------------------------------------------------------  ------------  ------------  ------------  ------------  ------------  ------------  ------------  ------------  ------------  ------------  \n",
            "                                                   Name    Self CPU %      Self CPU   CPU total %     CPU total  CPU time avg     Self CUDA   Self CUDA %    CUDA total  CUDA time avg    # of Calls  \n",
            "-------------------------------------------------------  ------------  ------------  ------------  ------------  ------------  ------------  ------------  ------------  ------------  ------------  \n",
            "                                          ProfilerStep*         5.21%       3.654ms        97.47%      68.335ms      22.778ms       0.000us         0.00%       1.162ms     387.333us             3  \n",
            "                               Optimizer.step#Adam.step         1.75%       1.230ms         3.25%       2.280ms     760.000us       0.000us         0.00%     852.000us     284.000us             3  \n",
            "    autograd::engine::evaluate_function: AddmmBackward0         0.18%     129.000us         1.41%     989.000us     109.889us       0.000us         0.00%     317.000us      35.222us             9  \n",
            "                                           aten::linear         0.08%      53.000us         1.18%     828.000us      92.000us       0.000us         0.00%     213.000us      23.667us             9  \n",
            "                                            aten::addmm         0.64%     447.000us         0.95%     667.000us      74.111us     213.000us        13.84%     213.000us      23.667us             9  \n",
            "                                         AddmmBackward0         0.15%     104.000us         0.89%     627.000us      69.667us       0.000us         0.00%     205.000us      22.778us             9  \n",
            "                                               aten::mm         0.44%     309.000us         0.58%     408.000us      27.200us     205.000us        13.32%     205.000us      13.667us            15  \n",
            "                                    aten::_foreach_mul_         0.14%     101.000us         0.24%     168.000us      28.000us     182.000us        11.83%     182.000us      30.333us             6  \n",
            "void at::native::(anonymous namespace)::multi_tensor...         0.00%       0.000us         0.00%       0.000us       0.000us     182.000us        11.83%     182.000us      30.333us             6  \n",
            "                                aten::_foreach_addcdiv_         0.07%      48.000us         0.10%      71.000us      23.667us     159.000us        10.33%     159.000us      53.000us             3  \n",
            "-------------------------------------------------------  ------------  ------------  ------------  ------------  ------------  ------------  ------------  ------------  ------------  ------------  \n",
            "Self CPU time total: 70.108ms\n",
            "Self CUDA time total: 1.539ms\n",
            "\n"
          ]
        }
      ]
    },
    {
      "cell_type": "code",
      "source": [
        "print(prof.key_averages().table(sort_by=\"self_cpu_memory_usage\", row_limit=10))"
      ],
      "metadata": {
        "colab": {
          "base_uri": "https://localhost:8080/"
        },
        "id": "BUlle4EGJjTX",
        "outputId": "c20209bc-5028-4db6-dee0-4489f97402bd"
      },
      "execution_count": null,
      "outputs": [
        {
          "output_type": "stream",
          "name": "stdout",
          "text": [
            "-------------------------------------------------------  ------------  ------------  ------------  ------------  ------------  ------------  ------------  ------------  ------------  ------------  \n",
            "                                                   Name    Self CPU %      Self CPU   CPU total %     CPU total  CPU time avg     Self CUDA   Self CUDA %    CUDA total  CUDA time avg    # of Calls  \n",
            "-------------------------------------------------------  ------------  ------------  ------------  ------------  ------------  ------------  ------------  ------------  ------------  ------------  \n",
            "                                          ProfilerStep*         5.21%       3.654ms        97.47%      68.335ms      22.778ms       0.000us         0.00%       1.162ms     387.333us             3  \n",
            "enumerate(DataLoader)#_SingleProcessDataLoaderIter._...        67.03%      46.995ms        86.15%      60.399ms      20.133ms       0.000us         0.00%       0.000us       0.000us             3  \n",
            "                                           aten::select         1.47%       1.030ms         1.69%       1.184ms       6.167us       0.000us         0.00%       0.000us       0.000us           192  \n",
            "                                       aten::as_strided         0.40%     281.000us         0.40%     281.000us       0.852us       0.000us         0.00%       0.000us       0.000us           330  \n",
            "                                             aten::item         0.86%     600.000us         0.87%     612.000us       1.186us       0.000us         0.00%       0.000us       0.000us           516  \n",
            "                              aten::_local_scalar_dense         0.02%      15.000us         0.02%      15.000us       0.029us       0.000us         0.00%       0.000us       0.000us           516  \n",
            "                                           aten::detach         0.36%     251.000us         1.11%     775.000us       6.798us       0.000us         0.00%       0.000us       0.000us           114  \n",
            "                                                 detach         0.76%     536.000us         0.76%     536.000us       4.702us       0.000us         0.00%       0.000us       0.000us           114  \n",
            "                                               aten::to         0.93%     653.000us         4.52%       3.172ms       4.519us       0.000us         0.00%      34.000us       0.048us           702  \n",
            "                                     aten::resolve_conj         0.00%       0.000us         0.00%       0.000us       0.000us       0.000us         0.00%       0.000us       0.000us            96  \n",
            "-------------------------------------------------------  ------------  ------------  ------------  ------------  ------------  ------------  ------------  ------------  ------------  ------------  \n",
            "Self CPU time total: 70.108ms\n",
            "Self CUDA time total: 1.539ms\n",
            "\n"
          ]
        }
      ]
    },
    {
      "cell_type": "code",
      "source": [
        "print(prof.key_averages().table(sort_by=\"cpu_memory_usage\", row_limit=10))"
      ],
      "metadata": {
        "colab": {
          "base_uri": "https://localhost:8080/"
        },
        "id": "wY7jCw1jJlS-",
        "outputId": "13d0a0eb-e30f-4b61-ae5e-0932ecd086c4"
      },
      "execution_count": null,
      "outputs": [
        {
          "output_type": "stream",
          "name": "stdout",
          "text": [
            "-------------------------------------------------------  ------------  ------------  ------------  ------------  ------------  ------------  ------------  ------------  ------------  ------------  \n",
            "                                                   Name    Self CPU %      Self CPU   CPU total %     CPU total  CPU time avg     Self CUDA   Self CUDA %    CUDA total  CUDA time avg    # of Calls  \n",
            "-------------------------------------------------------  ------------  ------------  ------------  ------------  ------------  ------------  ------------  ------------  ------------  ------------  \n",
            "                                          ProfilerStep*         5.21%       3.654ms        97.47%      68.335ms      22.778ms       0.000us         0.00%       1.162ms     387.333us             3  \n",
            "enumerate(DataLoader)#_SingleProcessDataLoaderIter._...        67.03%      46.995ms        86.15%      60.399ms      20.133ms       0.000us         0.00%       0.000us       0.000us             3  \n",
            "                                           aten::select         1.47%       1.030ms         1.69%       1.184ms       6.167us       0.000us         0.00%       0.000us       0.000us           192  \n",
            "                                       aten::as_strided         0.40%     281.000us         0.40%     281.000us       0.852us       0.000us         0.00%       0.000us       0.000us           330  \n",
            "                                             aten::item         0.86%     600.000us         0.87%     612.000us       1.186us       0.000us         0.00%       0.000us       0.000us           516  \n",
            "                              aten::_local_scalar_dense         0.02%      15.000us         0.02%      15.000us       0.029us       0.000us         0.00%       0.000us       0.000us           516  \n",
            "                                           aten::detach         0.36%     251.000us         1.11%     775.000us       6.798us       0.000us         0.00%       0.000us       0.000us           114  \n",
            "                                                 detach         0.76%     536.000us         0.76%     536.000us       4.702us       0.000us         0.00%       0.000us       0.000us           114  \n",
            "                                               aten::to         0.93%     653.000us         4.52%       3.172ms       4.519us       0.000us         0.00%      34.000us       0.048us           702  \n",
            "                                     aten::resolve_conj         0.00%       0.000us         0.00%       0.000us       0.000us       0.000us         0.00%       0.000us       0.000us            96  \n",
            "-------------------------------------------------------  ------------  ------------  ------------  ------------  ------------  ------------  ------------  ------------  ------------  ------------  \n",
            "Self CPU time total: 70.108ms\n",
            "Self CUDA time total: 1.539ms\n",
            "\n"
          ]
        }
      ]
    },
    {
      "cell_type": "code",
      "source": [
        "print(prof.key_averages(group_by_stack_n=5).table(sort_by=\"self_cuda_time_total\", row_limit=2))"
      ],
      "metadata": {
        "colab": {
          "base_uri": "https://localhost:8080/"
        },
        "id": "-6JeJkznJnFL",
        "outputId": "7759fe87-e477-4778-d738-5a744e834699"
      },
      "execution_count": null,
      "outputs": [
        {
          "output_type": "stream",
          "name": "stdout",
          "text": [
            "-------------------------------------------------------  ------------  ------------  ------------  ------------  ------------  ------------  ------------  ------------  ------------  ------------  \n",
            "                                                   Name    Self CPU %      Self CPU   CPU total %     CPU total  CPU time avg     Self CUDA   Self CUDA %    CUDA total  CUDA time avg    # of Calls  \n",
            "-------------------------------------------------------  ------------  ------------  ------------  ------------  ------------  ------------  ------------  ------------  ------------  ------------  \n",
            "                                            aten::addmm         0.64%     447.000us         0.95%     667.000us      74.111us     213.000us        13.84%     213.000us      23.667us             9  \n",
            "                                               aten::mm         0.44%     309.000us         0.58%     408.000us      27.200us     205.000us        13.32%     205.000us      13.667us            15  \n",
            "-------------------------------------------------------  ------------  ------------  ------------  ------------  ------------  ------------  ------------  ------------  ------------  ------------  \n",
            "Self CPU time total: 70.108ms\n",
            "Self CUDA time total: 1.539ms\n",
            "\n"
          ]
        }
      ]
    },
    {
      "cell_type": "code",
      "source": [
        "from google.colab import drive\n",
        "drive.mount('/content/drive')"
      ],
      "metadata": {
        "colab": {
          "base_uri": "https://localhost:8080/"
        },
        "id": "UGhIqttCJo5u",
        "outputId": "e261278d-571d-48a4-bf74-decfa11f6dec"
      },
      "execution_count": null,
      "outputs": [
        {
          "output_type": "stream",
          "name": "stdout",
          "text": [
            "Mounted at /content/drive\n"
          ]
        }
      ]
    },
    {
      "cell_type": "code",
      "source": [
        "!mv /content/log /content/drive/MyDrive"
      ],
      "metadata": {
        "id": "uefqh6jPJ7Kc"
      },
      "execution_count": null,
      "outputs": []
    },
    {
      "cell_type": "markdown",
      "source": [
        "Profiling with Automatic Mixed Precision"
      ],
      "metadata": {
        "id": "NRigkrENP1Tm"
      }
    },
    {
      "cell_type": "code",
      "source": [
        "import torch, time, gc\n",
        "\n",
        "# Timing utilities\n",
        "start_time = None\n",
        "\n",
        "def start_timer():\n",
        "    global start_time\n",
        "    gc.collect()\n",
        "    torch.cuda.empty_cache()\n",
        "    torch.cuda.reset_max_memory_allocated()\n",
        "    torch.cuda.synchronize()\n",
        "    start_time = time.time()\n",
        "\n",
        "def end_timer_and_print(local_msg):\n",
        "    torch.cuda.synchronize()\n",
        "    end_time = time.time()\n",
        "    print(\"\\n\" + local_msg)\n",
        "    print(\"Total execution time = {:.3f} sec\".format(end_time - start_time))\n",
        "    print(\"Max memory used by tensors = {} bytes\".format(torch.cuda.max_memory_allocated()))"
      ],
      "metadata": {
        "id": "VsLH_Xq_KdwN"
      },
      "execution_count": null,
      "outputs": []
    },
    {
      "cell_type": "code",
      "source": [
        "model.train()"
      ],
      "metadata": {
        "colab": {
          "base_uri": "https://localhost:8080/"
        },
        "id": "A7_jrcg-Q9rm",
        "outputId": "8f47378a-ad78-4881-f87f-fdd4065e571c"
      },
      "execution_count": null,
      "outputs": [
        {
          "output_type": "execute_result",
          "data": {
            "text/plain": [
              "MLP(\n",
              "  (input_fc): Linear(in_features=784, out_features=250, bias=True)\n",
              "  (hidden_fc): Linear(in_features=250, out_features=100, bias=True)\n",
              "  (output_fc): Linear(in_features=100, out_features=10, bias=True)\n",
              ")"
            ]
          },
          "metadata": {},
          "execution_count": 10
        }
      ]
    },
    {
      "cell_type": "code",
      "source": [
        "use_amp = True\n",
        "scaler = torch.cuda.amp.GradScaler(enabled=use_amp)\n",
        "\n",
        "def train(data):\n",
        "  inputs, labels = data[0].to(device=device), data[1].to(device=device)\n",
        "  with torch.autocast(device_type='cuda', dtype=torch.float16, enabled=use_amp):\n",
        "    outputs,_ = model(inputs)\n",
        "    loss = criterion(outputs, labels)\n",
        "  scaler.scale(loss).backward()\n",
        "  scaler.step(optimizer)\n",
        "  scaler.update()\n",
        "  optimizer.zero_grad() # set_to_non"
      ],
      "metadata": {
        "id": "VTT_3WVRRBq0"
      },
      "execution_count": null,
      "outputs": []
    },
    {
      "cell_type": "code",
      "source": [
        "prof = torch.profiler.profile(\n",
        "        schedule=torch.profiler.schedule(wait=1, warmup=1, active=3, repeat=2),\n",
        "        on_trace_ready=torch.profiler.tensorboard_trace_handler('./log/mlp_amp'),\n",
        "        record_shapes=True,\n",
        "        with_stack=True)\n",
        "prof.start()\n",
        "start_timer()\n",
        "for step, batch_data in enumerate(train_loader):\n",
        "\n",
        "    if step >= (1 + 1 + 3) * 2:\n",
        "        break\n",
        "    train(batch_data)\n",
        "    prof.step()\n",
        "prof.stop()\n",
        "end_timer_and_print(\"Mixed precision:\")"
      ],
      "metadata": {
        "colab": {
          "base_uri": "https://localhost:8080/"
        },
        "id": "XJJr__9qSMLb",
        "outputId": "1bf654ab-6241-4d51-e112-0be17eecf946"
      },
      "execution_count": null,
      "outputs": [
        {
          "output_type": "stream",
          "name": "stderr",
          "text": [
            "/usr/local/lib/python3.10/dist-packages/torch/cuda/memory.py:303: FutureWarning: torch.cuda.reset_max_memory_allocated now calls torch.cuda.reset_peak_memory_stats, which resets /all/ peak memory stats.\n",
            "  warnings.warn(\n"
          ]
        },
        {
          "output_type": "stream",
          "name": "stdout",
          "text": [
            "\n",
            "Mixed precision:\n",
            "Total execution time = 5.466 sec\n",
            "Max memory used by tensors = 22495232 bytes\n"
          ]
        }
      ]
    },
    {
      "cell_type": "code",
      "source": [
        "print(prof.key_averages())"
      ],
      "metadata": {
        "colab": {
          "base_uri": "https://localhost:8080/"
        },
        "id": "Yymu1yPaSr6l",
        "outputId": "8c210b63-b871-4866-8006-32f183f48585"
      },
      "execution_count": null,
      "outputs": [
        {
          "output_type": "stream",
          "name": "stdout",
          "text": [
            "-------------------------------------------------------  ------------  ------------  ------------  ------------  ------------  ------------  ------------  ------------  ------------  ------------  \n",
            "                                                   Name    Self CPU %      Self CPU   CPU total %     CPU total  CPU time avg     Self CUDA   Self CUDA %    CUDA total  CUDA time avg    # of Calls  \n",
            "-------------------------------------------------------  ------------  ------------  ------------  ------------  ------------  ------------  ------------  ------------  ------------  ------------  \n",
            "                                          ProfilerStep*         7.10%       5.221ms        96.52%      70.970ms      23.657ms       0.000us         0.00%       1.403ms     467.667us             3  \n",
            "enumerate(DataLoader)#_SingleProcessDataLoaderIter._...        62.95%      46.285ms        80.59%      59.257ms      19.752ms       0.000us         0.00%       0.000us       0.000us             3  \n",
            "                                           aten::select         1.34%     987.000us         1.50%       1.104ms       5.750us       0.000us         0.00%       0.000us       0.000us           192  \n",
            "                                       aten::as_strided         0.32%     234.000us         0.32%     234.000us       0.703us       0.000us         0.00%       0.000us       0.000us           333  \n",
            "                                             aten::item         0.86%     630.000us         1.01%     745.000us       1.435us       0.000us         0.00%       3.000us       0.006us           519  \n",
            "                              aten::_local_scalar_dense         0.06%      42.000us         0.16%     117.000us       0.225us       3.000us         0.16%       3.000us       0.006us           519  \n",
            "                                           aten::detach         0.34%     247.000us         0.75%     554.000us       4.860us       0.000us         0.00%       0.000us       0.000us           114  \n",
            "                                                 detach         0.42%     310.000us         0.42%     310.000us       2.719us       0.000us         0.00%       0.000us       0.000us           114  \n",
            "                                               aten::to         1.09%     805.000us         6.77%       4.980ms       6.510us       0.000us         0.00%     359.000us       0.469us           765  \n",
            "                                     aten::resolve_conj         0.00%       0.000us         0.00%       0.000us       0.000us       0.000us         0.00%       0.000us       0.000us            96  \n",
            "                                      aten::resolve_neg         0.00%       0.000us         0.00%       0.000us       0.000us       0.000us         0.00%       0.000us       0.000us            96  \n",
            "                                            aten::empty         0.83%     609.000us         0.83%     609.000us       1.230us       0.000us         0.00%       0.000us       0.000us           495  \n",
            "                                         aten::uniform_         0.54%     400.000us         0.54%     400.000us       4.167us       0.000us         0.00%       0.000us       0.000us            96  \n",
            "                                          aten::randint         1.23%     902.000us         1.87%       1.374ms       7.156us       0.000us         0.00%       0.000us       0.000us           192  \n",
            "                                          aten::random_         0.41%     303.000us         0.41%     303.000us       1.578us       0.000us         0.00%       0.000us       0.000us           192  \n",
            "                                       aten::lift_fresh         0.16%     119.000us         0.16%     119.000us       0.409us       0.000us         0.00%       0.000us       0.000us           291  \n",
            "                                             aten::view         1.05%     774.000us         1.05%     774.000us       1.940us       0.000us         0.00%       0.000us       0.000us           399  \n",
            "                                          aten::permute         0.73%     537.000us         0.85%     626.000us       6.521us       0.000us         0.00%       0.000us       0.000us            96  \n",
            "                                         aten::_to_copy         2.37%       1.746ms         5.96%       4.380ms      11.870us       0.000us         0.00%     372.000us       1.008us           369  \n",
            "                                    aten::empty_strided         1.44%       1.059ms         1.44%       1.059ms       2.101us       0.000us         0.00%       0.000us       0.000us           504  \n",
            "                                            aten::copy_         1.93%       1.419ms         2.95%       2.169ms       3.866us     383.000us        20.10%     383.000us       0.683us           561  \n",
            "                                              aten::div         1.29%     948.000us         2.13%       1.564ms      16.292us       0.000us         0.00%       0.000us       0.000us            96  \n",
            "                                            aten::clone         0.65%     481.000us         1.02%     748.000us       7.792us       0.000us         0.00%       0.000us       0.000us            96  \n",
            "                                               aten::eq         0.98%     722.000us         1.86%       1.369ms      14.260us       0.000us         0.00%       0.000us       0.000us            96  \n",
            "                                              aten::any         0.80%     586.000us         1.29%     945.000us       9.844us       0.000us         0.00%       0.000us       0.000us            96  \n",
            "                                          aten::view_as         0.21%     154.000us         0.30%     219.000us       2.281us       0.000us         0.00%       0.000us       0.000us            96  \n",
            "                                       aten::is_nonzero         0.24%     178.000us         0.42%     306.000us       3.188us       0.000us         0.00%       0.000us       0.000us            96  \n",
            "                                             aten::sub_         0.66%     483.000us         0.66%     483.000us       5.031us       0.000us         0.00%       0.000us       0.000us            96  \n",
            "                                             aten::div_         0.40%     292.000us         0.40%     292.000us       3.042us       0.000us         0.00%       0.000us       0.000us            96  \n",
            "                                            aten::stack         0.06%      42.000us         0.16%     115.000us      38.333us       0.000us         0.00%       0.000us       0.000us             3  \n",
            "                                              aten::cat         0.09%      69.000us         0.09%      69.000us      23.000us       0.000us         0.00%       0.000us       0.000us             3  \n",
            "                                          aten::detach_         0.01%       7.000us         0.01%       8.000us       2.667us       0.000us         0.00%       0.000us       0.000us             3  \n",
            "                                                detach_         0.00%       1.000us         0.00%       1.000us       0.333us       0.000us         0.00%       0.000us       0.000us             3  \n",
            "                                        cudaMemcpyAsync         0.44%     324.000us         0.44%     324.000us      21.600us       0.000us         0.00%       0.000us       0.000us            15  \n",
            "                       Memcpy HtoD (Pageable -> Device)         0.00%       0.000us         0.00%       0.000us       0.000us      34.000us         1.78%      34.000us       5.667us             6  \n",
            "                                  cudaStreamSynchronize         0.11%      82.000us         0.11%      82.000us       9.111us       0.000us         0.00%       0.000us       0.000us             9  \n",
            "                                           aten::linear         0.38%     280.000us         3.03%       2.228ms     123.778us       0.000us         0.00%     357.000us      19.833us            18  \n",
            "void at::native::unrolled_elementwise_kernel<at::nat...         0.00%       0.000us         0.00%       0.000us       0.000us     161.000us         8.45%     161.000us       6.708us            24  \n",
            "                                       cudaLaunchKernel         1.78%       1.310ms         1.78%       1.310ms       8.239us       0.000us         0.00%       0.000us       0.000us           159  \n",
            "                                                aten::t         0.16%     115.000us         0.32%     235.000us       5.595us       0.000us         0.00%       0.000us       0.000us            42  \n",
            "                                        aten::transpose         0.13%      95.000us         0.16%     119.000us       2.833us       0.000us         0.00%       0.000us       0.000us            42  \n",
            "                                            aten::addmm         0.60%     438.000us         0.81%     592.000us      65.778us     117.000us         6.14%     117.000us      13.000us             9  \n",
            "                                        Memset (Device)         0.00%       0.000us         0.00%       0.000us       0.000us       3.000us         0.16%       3.000us       1.000us             3  \n",
            "cudaOccupancyMaxActiveBlocksPerMultiprocessorWithFla...         0.03%      25.000us         0.03%      25.000us       0.758us       0.000us         0.00%       0.000us       0.000us            33  \n",
            "void cutlass::Kernel<cutlass_75_wmma_tensorop_f16_s1...         0.00%       0.000us         0.00%       0.000us       0.000us     114.000us         5.98%     114.000us      12.667us             9  \n",
            "                                        cudaMemsetAsync         0.04%      27.000us         0.04%      27.000us       9.000us       0.000us         0.00%       0.000us       0.000us             3  \n",
            "                                             aten::relu         0.08%      57.000us         0.25%     183.000us      30.500us       0.000us         0.00%      24.000us       4.000us             6  \n",
            "void at::native::vectorized_elementwise_kernel<4, at...         0.00%       0.000us         0.00%       0.000us       0.000us      24.000us         1.26%      24.000us       4.000us             6  \n",
            "                                        aten::clamp_min         0.11%      81.000us         0.17%     126.000us      21.000us      24.000us         1.26%      24.000us       4.000us             6  \n",
            "                               aten::cross_entropy_loss        -0.04%     -29.000us         0.50%     367.000us     122.333us       0.000us         0.00%      48.000us      16.000us             3  \n",
            "                                      aten::log_softmax         0.09%      67.000us         0.22%     163.000us      40.750us       0.000us         0.00%      15.000us       3.750us             4  \n",
            "                                     aten::_log_softmax         0.10%      70.000us         0.13%      96.000us      32.000us      15.000us         0.79%      15.000us       5.000us             3  \n",
            "void (anonymous namespace)::softmax_warp_forward<c10...         0.00%       0.000us         0.00%       0.000us       0.000us      15.000us         0.79%      15.000us       5.000us             3  \n",
            "                                      aten::nll_loss_nd         0.01%       8.000us         0.32%     233.000us      77.667us       0.000us         0.00%      33.000us      11.000us             3  \n",
            "                                         aten::nll_loss        -0.02%     -12.000us         0.47%     344.000us      57.333us       0.000us         0.00%      48.000us       8.000us             6  \n",
            "void at::native::unrolled_elementwise_kernel<at::nat...         0.00%       0.000us         0.00%       0.000us       0.000us     150.000us         7.87%     150.000us       6.250us            24  \n",
            "                                 aten::nll_loss_forward         0.09%      68.000us         0.15%     110.000us      36.667us      15.000us         0.79%      15.000us       5.000us             3  \n",
            "void at::native::(anonymous namespace)::nll_loss_for...         0.00%       0.000us         0.00%       0.000us       0.000us      15.000us         0.79%      15.000us       5.000us             3  \n",
            "                                          aten::resize_         0.00%       0.000us         0.00%       0.000us       0.000us       0.000us         0.00%       0.000us       0.000us             3  \n",
            "void at::native::vectorized_elementwise_kernel<4, at...         0.00%       0.000us         0.00%       0.000us       0.000us      24.000us         1.26%      24.000us       4.000us             6  \n",
            "                                              aten::mul         0.17%     123.000us         0.25%     185.000us      30.833us      24.000us         1.26%      24.000us       4.000us             6  \n",
            "                                        aten::ones_like         0.02%      13.000us         0.11%      82.000us      27.333us       0.000us         0.00%       9.000us       3.000us             3  \n",
            "                                       aten::empty_like         0.01%      10.000us         0.04%      28.000us       9.333us       0.000us         0.00%       0.000us       0.000us             3  \n",
            "void at::native::vectorized_elementwise_kernel<4, at...         0.00%       0.000us         0.00%       0.000us       0.000us      27.000us         1.42%      27.000us       3.000us             9  \n",
            "                                            aten::fill_         0.08%      58.000us         0.16%     121.000us      13.444us      27.000us         1.42%      27.000us       3.000us             9  \n",
            "      autograd::engine::evaluate_function: MulBackward0         0.08%      59.000us         0.36%     263.000us      87.667us       0.000us         0.00%      41.000us      13.667us             3  \n",
            "                                           MulBackward0         0.02%      16.000us         0.15%     109.000us      36.333us       0.000us         0.00%      12.000us       4.000us             3  \n",
            "                                              aten::sum         0.28%     206.000us         0.40%     293.000us      24.417us     134.000us         7.03%     134.000us      11.167us            12  \n",
            "void at::native::reduce_kernel<512, 1, at::native::R...         0.00%       0.000us         0.00%       0.000us       0.000us      29.000us         1.52%      29.000us       9.667us             3  \n",
            "autograd::engine::evaluate_function: NllLossBackward...         0.03%      21.000us         0.18%     136.000us      45.333us       0.000us         0.00%      24.000us       8.000us             3  \n",
            "                                       NllLossBackward0         0.02%      13.000us         0.16%     115.000us      38.333us       0.000us         0.00%      24.000us       8.000us             3  \n",
            "                                aten::nll_loss_backward         0.05%      39.000us         0.14%     102.000us      34.000us      15.000us         0.79%      24.000us       8.000us             3  \n",
            "                                            aten::zero_         0.01%      10.000us         0.06%      47.000us      15.667us       0.000us         0.00%       9.000us       3.000us             3  \n",
            "void at::native::(anonymous namespace)::nll_loss_bac...         0.00%       0.000us         0.00%       0.000us       0.000us      15.000us         0.79%      15.000us       5.000us             3  \n",
            "autograd::engine::evaluate_function: ToCopyBackward0...         0.14%     103.000us         0.94%     692.000us      32.952us       0.000us         0.00%     138.000us       6.571us            21  \n",
            "                                        ToCopyBackward0         0.02%      15.000us         0.80%     589.000us      28.048us       0.000us         0.00%     138.000us       6.571us            21  \n",
            "void (anonymous namespace)::softmax_warp_backward<c1...         0.00%       0.000us         0.00%       0.000us       0.000us      12.000us         0.63%      12.000us       4.000us             3  \n",
            "autograd::engine::evaluate_function: LogSoftmaxBackw...         0.02%      16.000us         0.11%      83.000us      27.667us       0.000us         0.00%      12.000us       4.000us             3  \n",
            "                                    LogSoftmaxBackward0         0.02%      15.000us         0.09%      67.000us      22.333us       0.000us         0.00%      12.000us       4.000us             3  \n",
            "                       aten::_log_softmax_backward_data         0.04%      32.000us         0.07%      52.000us      17.333us      12.000us         0.63%      12.000us       4.000us             3  \n",
            "    autograd::engine::evaluate_function: AddmmBackward0         0.16%     116.000us         1.26%     930.000us     103.333us       0.000us         0.00%     263.000us      29.222us             9  \n",
            "                                         AddmmBackward0         0.12%      87.000us         0.81%     599.000us      66.556us       0.000us         0.00%     158.000us      17.556us             9  \n",
            "                                               aten::mm         0.41%     298.000us         0.55%     401.000us      26.733us     158.000us         8.29%     158.000us      10.533us            15  \n",
            "void cutlass::Kernel<cutlass_75_wmma_tensorop_f16_s1...         0.00%       0.000us         0.00%       0.000us       0.000us      54.000us         2.83%      54.000us       9.000us             6  \n",
            "void cutlass::Kernel<cutlass_75_wmma_tensorop_f16_s1...         0.00%       0.000us         0.00%       0.000us       0.000us      33.000us         1.73%      33.000us      11.000us             3  \n",
            "void at::native::reduce_kernel<256, 2, at::native::R...         0.00%       0.000us         0.00%       0.000us       0.000us      66.000us         3.46%      66.000us      11.000us             6  \n",
            "        autograd::engine::evaluate_function: TBackward0         0.05%      36.000us         0.11%      81.000us       9.000us       0.000us         0.00%       0.000us       0.000us             9  \n",
            "                                             TBackward0         0.01%       9.000us         0.06%      45.000us       5.000us       0.000us         0.00%       0.000us       0.000us             9  \n",
            "autograd::engine::evaluate_function: torch::autograd...         0.09%      65.000us         0.25%     181.000us      10.056us       0.000us         0.00%       0.000us       0.000us            18  \n",
            "                        torch::autograd::AccumulateGrad         0.06%      42.000us         0.15%     110.000us       6.111us       0.000us         0.00%       0.000us       0.000us            18  \n",
            "     autograd::engine::evaluate_function: ReluBackward0         0.04%      32.000us         0.25%     182.000us      30.333us       0.000us         0.00%      24.000us       4.000us             6  \n",
            "void at::native::vectorized_elementwise_kernel<4, at...         0.00%       0.000us         0.00%       0.000us       0.000us      24.000us         1.26%      24.000us       4.000us             6  \n",
            "                                          ReluBackward0         0.03%      20.000us         0.20%     150.000us      25.000us       0.000us         0.00%      24.000us       4.000us             6  \n",
            "                               aten::threshold_backward         0.10%      72.000us         0.18%     130.000us      21.667us      24.000us         1.26%      24.000us       4.000us             6  \n",
            "void cutlass::Kernel<cutlass_75_wmma_tensorop_f16_s1...         0.00%       0.000us         0.00%       0.000us       0.000us      32.000us         1.68%      32.000us      10.667us             3  \n",
            "void at::native::reduce_kernel<128, 4, at::native::R...         0.00%       0.000us         0.00%       0.000us       0.000us      39.000us         2.05%      39.000us      13.000us             3  \n",
            "void cutlass::Kernel<cutlass_75_tensorop_f16_s1688ge...         0.00%       0.000us         0.00%       0.000us       0.000us      39.000us         2.05%      39.000us      13.000us             3  \n",
            "void at::native::unrolled_elementwise_kernel<at::nat...         0.00%       0.000us         0.00%       0.000us       0.000us      15.000us         0.79%      15.000us       5.000us             3  \n",
            "                                       aten::reciprocal         0.06%      44.000us         0.11%      78.000us      26.000us      12.000us         0.63%      12.000us       4.000us             3  \n",
            "void at::native::vectorized_elementwise_kernel<4, at...         0.00%       0.000us         0.00%       0.000us       0.000us      12.000us         0.63%      12.000us       4.000us             3  \n",
            "-------------------------------------------------------  ------------  ------------  ------------  ------------  ------------  ------------  ------------  ------------  ------------  ------------  \n",
            "Self CPU time total: 73.526ms\n",
            "Self CUDA time total: 1.905ms\n",
            "\n"
          ]
        }
      ]
    },
    {
      "cell_type": "code",
      "source": [
        "print(prof.key_averages().table(sort_by=\"cpu_time_total\", row_limit=10))"
      ],
      "metadata": {
        "colab": {
          "base_uri": "https://localhost:8080/"
        },
        "id": "xDczy_94TaTc",
        "outputId": "3a1ef885-6559-45fe-c3b4-091586bb5bfd"
      },
      "execution_count": null,
      "outputs": [
        {
          "output_type": "stream",
          "name": "stdout",
          "text": [
            "-------------------------------------------------------  ------------  ------------  ------------  ------------  ------------  ------------  ------------  ------------  ------------  ------------  \n",
            "                                                   Name    Self CPU %      Self CPU   CPU total %     CPU total  CPU time avg     Self CUDA   Self CUDA %    CUDA total  CUDA time avg    # of Calls  \n",
            "-------------------------------------------------------  ------------  ------------  ------------  ------------  ------------  ------------  ------------  ------------  ------------  ------------  \n",
            "                                          ProfilerStep*         7.10%       5.221ms        96.52%      70.970ms      23.657ms       0.000us         0.00%       1.403ms     467.667us             3  \n",
            "enumerate(DataLoader)#_SingleProcessDataLoaderIter._...        62.95%      46.285ms        80.59%      59.257ms      19.752ms       0.000us         0.00%       0.000us       0.000us             3  \n",
            "                                               aten::to         1.09%     805.000us         6.77%       4.980ms       6.510us       0.000us         0.00%     359.000us       0.469us           765  \n",
            "                                         aten::_to_copy         2.37%       1.746ms         5.96%       4.380ms      11.870us       0.000us         0.00%     372.000us       1.008us           369  \n",
            "                               Optimizer.step#Adam.step         2.13%       1.566ms         3.61%       2.653ms     884.333us       0.000us         0.00%     828.000us     276.000us             3  \n",
            "                                           aten::linear         0.38%     280.000us         3.03%       2.228ms     123.778us       0.000us         0.00%     357.000us      19.833us            18  \n",
            "                                            aten::copy_         1.93%       1.419ms         2.95%       2.169ms       3.866us     383.000us        20.10%     383.000us       0.683us           561  \n",
            "                                              aten::div         1.29%     948.000us         2.13%       1.564ms      16.292us       0.000us         0.00%       0.000us       0.000us            96  \n",
            "                                          aten::randint         1.23%     902.000us         1.87%       1.374ms       7.156us       0.000us         0.00%       0.000us       0.000us           192  \n",
            "                                               aten::eq         0.98%     722.000us         1.86%       1.369ms      14.260us       0.000us         0.00%       0.000us       0.000us            96  \n",
            "-------------------------------------------------------  ------------  ------------  ------------  ------------  ------------  ------------  ------------  ------------  ------------  ------------  \n",
            "Self CPU time total: 73.526ms\n",
            "Self CUDA time total: 1.905ms\n",
            "\n"
          ]
        }
      ]
    },
    {
      "cell_type": "code",
      "source": [
        "print(prof.key_averages(group_by_input_shape=True).table(sort_by=\"cpu_time_total\", row_limit=10))"
      ],
      "metadata": {
        "colab": {
          "base_uri": "https://localhost:8080/"
        },
        "id": "1EtcnT1lTfb1",
        "outputId": "ae691c7f-d425-4f0e-a6fc-a60726084a78"
      },
      "execution_count": null,
      "outputs": [
        {
          "output_type": "stream",
          "name": "stdout",
          "text": [
            "-------------------------------------------------------  ------------  ------------  ------------  ------------  ------------  ------------  ------------  ------------  ------------  ------------  -------------------------------------------------  \n",
            "                                                   Name    Self CPU %      Self CPU   CPU total %     CPU total  CPU time avg     Self CUDA   Self CUDA %    CUDA total  CUDA time avg    # of Calls                                       Input Shapes  \n",
            "-------------------------------------------------------  ------------  ------------  ------------  ------------  ------------  ------------  ------------  ------------  ------------  ------------  -------------------------------------------------  \n",
            "                                          ProfilerStep*         7.10%       5.221ms        96.52%      70.970ms      23.657ms       0.000us         0.00%       1.403ms     467.667us             3                                                 []  \n",
            "enumerate(DataLoader)#_SingleProcessDataLoaderIter._...        62.95%      46.285ms        80.59%      59.257ms      19.752ms       0.000us         0.00%       0.000us       0.000us             3                                                 []  \n",
            "                               Optimizer.step#Adam.step         2.13%       1.566ms         3.61%       2.653ms     884.333us       0.000us         0.00%     828.000us     276.000us             3                                                 []  \n",
            "                                              aten::div         1.29%     948.000us         2.13%       1.564ms      16.292us       0.000us         0.00%       0.000us       0.000us            96                                  [[1, 28, 28], []]  \n",
            "                                               aten::to         0.35%     256.000us         1.94%       1.427ms      14.865us       0.000us         0.00%       0.000us       0.000us            96                      [[1, 28, 28], [], [], [], []]  \n",
            "                                          aten::randint         1.23%     902.000us         1.87%       1.374ms       7.156us       0.000us         0.00%       0.000us       0.000us           192                       [[], [], [], [], [], [], []]  \n",
            "                                               aten::eq         0.98%     722.000us         1.86%       1.369ms      14.260us       0.000us         0.00%       0.000us       0.000us            96                                          [[1], []]  \n",
            "                                               aten::to         0.41%     300.000us         1.83%       1.347ms       4.402us       0.000us         0.00%       0.000us       0.000us           306                               [[], [], [], [], []]  \n",
            "                                       cudaLaunchKernel         1.78%       1.310ms         1.78%       1.310ms       8.239us       0.000us         0.00%       0.000us       0.000us           159                                                 []  \n",
            "                                         aten::_to_copy         0.83%     610.000us         1.68%       1.238ms      12.896us       0.000us         0.00%       0.000us       0.000us            96              [[1, 28, 28], [], [], [], [], [], []]  \n",
            "-------------------------------------------------------  ------------  ------------  ------------  ------------  ------------  ------------  ------------  ------------  ------------  ------------  -------------------------------------------------  \n",
            "Self CPU time total: 73.526ms\n",
            "Self CUDA time total: 1.905ms\n",
            "\n"
          ]
        }
      ]
    },
    {
      "cell_type": "code",
      "source": [
        "print(prof.key_averages().table(sort_by=\"cuda_time_total\", row_limit=10))"
      ],
      "metadata": {
        "colab": {
          "base_uri": "https://localhost:8080/"
        },
        "id": "YdEGlC6STkLP",
        "outputId": "e33b829c-119b-46f1-de00-4c52ab7aebef"
      },
      "execution_count": null,
      "outputs": [
        {
          "output_type": "stream",
          "name": "stdout",
          "text": [
            "-------------------------------------------------------  ------------  ------------  ------------  ------------  ------------  ------------  ------------  ------------  ------------  ------------  \n",
            "                                                   Name    Self CPU %      Self CPU   CPU total %     CPU total  CPU time avg     Self CUDA   Self CUDA %    CUDA total  CUDA time avg    # of Calls  \n",
            "-------------------------------------------------------  ------------  ------------  ------------  ------------  ------------  ------------  ------------  ------------  ------------  ------------  \n",
            "                                          ProfilerStep*         7.10%       5.221ms        96.52%      70.970ms      23.657ms       0.000us         0.00%       1.403ms     467.667us             3  \n",
            "                               Optimizer.step#Adam.step         2.13%       1.566ms         3.61%       2.653ms     884.333us       0.000us         0.00%     828.000us     276.000us             3  \n",
            "                                            aten::copy_         1.93%       1.419ms         2.95%       2.169ms       3.866us     383.000us        20.10%     383.000us       0.683us           561  \n",
            "                                         aten::_to_copy         2.37%       1.746ms         5.96%       4.380ms      11.870us       0.000us         0.00%     372.000us       1.008us           369  \n",
            "                                               aten::to         1.09%     805.000us         6.77%       4.980ms       6.510us       0.000us         0.00%     359.000us       0.469us           765  \n",
            "                                           aten::linear         0.38%     280.000us         3.03%       2.228ms     123.778us       0.000us         0.00%     357.000us      19.833us            18  \n",
            "    autograd::engine::evaluate_function: AddmmBackward0         0.16%     116.000us         1.26%     930.000us     103.333us       0.000us         0.00%     263.000us      29.222us             9  \n",
            "                                    aten::_foreach_mul_         0.13%      92.000us         0.21%     158.000us      26.333us     181.000us         9.50%     181.000us      30.167us             6  \n",
            "void at::native::(anonymous namespace)::multi_tensor...         0.00%       0.000us         0.00%       0.000us       0.000us     181.000us         9.50%     181.000us      30.167us             6  \n",
            "void at::native::unrolled_elementwise_kernel<at::nat...         0.00%       0.000us         0.00%       0.000us       0.000us     161.000us         8.45%     161.000us       6.708us            24  \n",
            "-------------------------------------------------------  ------------  ------------  ------------  ------------  ------------  ------------  ------------  ------------  ------------  ------------  \n",
            "Self CPU time total: 73.526ms\n",
            "Self CUDA time total: 1.905ms\n",
            "\n"
          ]
        }
      ]
    },
    {
      "cell_type": "code",
      "source": [
        "print(prof.key_averages().table(sort_by=\"self_cpu_memory_usage\", row_limit=10))"
      ],
      "metadata": {
        "colab": {
          "base_uri": "https://localhost:8080/"
        },
        "id": "rP-JwEMrTmsi",
        "outputId": "0e48e9c3-67d9-4925-d454-64fdb2e21307"
      },
      "execution_count": null,
      "outputs": [
        {
          "output_type": "stream",
          "name": "stdout",
          "text": [
            "-------------------------------------------------------  ------------  ------------  ------------  ------------  ------------  ------------  ------------  ------------  ------------  ------------  \n",
            "                                                   Name    Self CPU %      Self CPU   CPU total %     CPU total  CPU time avg     Self CUDA   Self CUDA %    CUDA total  CUDA time avg    # of Calls  \n",
            "-------------------------------------------------------  ------------  ------------  ------------  ------------  ------------  ------------  ------------  ------------  ------------  ------------  \n",
            "                                          ProfilerStep*         7.10%       5.221ms        96.52%      70.970ms      23.657ms       0.000us         0.00%       1.403ms     467.667us             3  \n",
            "enumerate(DataLoader)#_SingleProcessDataLoaderIter._...        62.95%      46.285ms        80.59%      59.257ms      19.752ms       0.000us         0.00%       0.000us       0.000us             3  \n",
            "                                           aten::select         1.34%     987.000us         1.50%       1.104ms       5.750us       0.000us         0.00%       0.000us       0.000us           192  \n",
            "                                       aten::as_strided         0.32%     234.000us         0.32%     234.000us       0.703us       0.000us         0.00%       0.000us       0.000us           333  \n",
            "                                             aten::item         0.86%     630.000us         1.01%     745.000us       1.435us       0.000us         0.00%       3.000us       0.006us           519  \n",
            "                              aten::_local_scalar_dense         0.06%      42.000us         0.16%     117.000us       0.225us       3.000us         0.16%       3.000us       0.006us           519  \n",
            "                                           aten::detach         0.34%     247.000us         0.75%     554.000us       4.860us       0.000us         0.00%       0.000us       0.000us           114  \n",
            "                                                 detach         0.42%     310.000us         0.42%     310.000us       2.719us       0.000us         0.00%       0.000us       0.000us           114  \n",
            "                                               aten::to         1.09%     805.000us         6.77%       4.980ms       6.510us       0.000us         0.00%     359.000us       0.469us           765  \n",
            "                                     aten::resolve_conj         0.00%       0.000us         0.00%       0.000us       0.000us       0.000us         0.00%       0.000us       0.000us            96  \n",
            "-------------------------------------------------------  ------------  ------------  ------------  ------------  ------------  ------------  ------------  ------------  ------------  ------------  \n",
            "Self CPU time total: 73.526ms\n",
            "Self CUDA time total: 1.905ms\n",
            "\n"
          ]
        }
      ]
    },
    {
      "cell_type": "code",
      "source": [
        "print(prof.key_averages().table(sort_by=\"cpu_memory_usage\", row_limit=10))"
      ],
      "metadata": {
        "colab": {
          "base_uri": "https://localhost:8080/"
        },
        "id": "XHkeq9EGTo9e",
        "outputId": "d904fafc-ca8c-46bf-b258-da06e7c3ec02"
      },
      "execution_count": null,
      "outputs": [
        {
          "output_type": "stream",
          "name": "stdout",
          "text": [
            "-------------------------------------------------------  ------------  ------------  ------------  ------------  ------------  ------------  ------------  ------------  ------------  ------------  \n",
            "                                                   Name    Self CPU %      Self CPU   CPU total %     CPU total  CPU time avg     Self CUDA   Self CUDA %    CUDA total  CUDA time avg    # of Calls  \n",
            "-------------------------------------------------------  ------------  ------------  ------------  ------------  ------------  ------------  ------------  ------------  ------------  ------------  \n",
            "                                          ProfilerStep*         7.10%       5.221ms        96.52%      70.970ms      23.657ms       0.000us         0.00%       1.403ms     467.667us             3  \n",
            "enumerate(DataLoader)#_SingleProcessDataLoaderIter._...        62.95%      46.285ms        80.59%      59.257ms      19.752ms       0.000us         0.00%       0.000us       0.000us             3  \n",
            "                                           aten::select         1.34%     987.000us         1.50%       1.104ms       5.750us       0.000us         0.00%       0.000us       0.000us           192  \n",
            "                                       aten::as_strided         0.32%     234.000us         0.32%     234.000us       0.703us       0.000us         0.00%       0.000us       0.000us           333  \n",
            "                                             aten::item         0.86%     630.000us         1.01%     745.000us       1.435us       0.000us         0.00%       3.000us       0.006us           519  \n",
            "                              aten::_local_scalar_dense         0.06%      42.000us         0.16%     117.000us       0.225us       3.000us         0.16%       3.000us       0.006us           519  \n",
            "                                           aten::detach         0.34%     247.000us         0.75%     554.000us       4.860us       0.000us         0.00%       0.000us       0.000us           114  \n",
            "                                                 detach         0.42%     310.000us         0.42%     310.000us       2.719us       0.000us         0.00%       0.000us       0.000us           114  \n",
            "                                               aten::to         1.09%     805.000us         6.77%       4.980ms       6.510us       0.000us         0.00%     359.000us       0.469us           765  \n",
            "                                     aten::resolve_conj         0.00%       0.000us         0.00%       0.000us       0.000us       0.000us         0.00%       0.000us       0.000us            96  \n",
            "-------------------------------------------------------  ------------  ------------  ------------  ------------  ------------  ------------  ------------  ------------  ------------  ------------  \n",
            "Self CPU time total: 73.526ms\n",
            "Self CUDA time total: 1.905ms\n",
            "\n"
          ]
        }
      ]
    },
    {
      "cell_type": "code",
      "source": [
        "print(prof.key_averages(group_by_stack_n=5).table(sort_by=\"self_cuda_time_total\", row_limit=2))"
      ],
      "metadata": {
        "colab": {
          "base_uri": "https://localhost:8080/"
        },
        "id": "YU3PY2-4TrOs",
        "outputId": "a68ac2c3-fa83-4da2-b08b-e3d85083b128"
      },
      "execution_count": null,
      "outputs": [
        {
          "output_type": "stream",
          "name": "stdout",
          "text": [
            "-------------------------------------------------------  ------------  ------------  ------------  ------------  ------------  ------------  ------------  ------------  ------------  ------------  \n",
            "                                                   Name    Self CPU %      Self CPU   CPU total %     CPU total  CPU time avg     Self CUDA   Self CUDA %    CUDA total  CUDA time avg    # of Calls  \n",
            "-------------------------------------------------------  ------------  ------------  ------------  ------------  ------------  ------------  ------------  ------------  ------------  ------------  \n",
            "                                            aten::copy_         1.93%       1.419ms         2.95%       2.169ms       3.866us     383.000us        20.10%     383.000us       0.683us           561  \n",
            "                                    aten::_foreach_mul_         0.13%      92.000us         0.21%     158.000us      26.333us     181.000us         9.50%     181.000us      30.167us             6  \n",
            "-------------------------------------------------------  ------------  ------------  ------------  ------------  ------------  ------------  ------------  ------------  ------------  ------------  \n",
            "Self CPU time total: 73.526ms\n",
            "Self CUDA time total: 1.905ms\n",
            "\n"
          ]
        }
      ]
    },
    {
      "cell_type": "code",
      "source": [
        "from google.colab import drive\n",
        "drive.mount('/content/drive')"
      ],
      "metadata": {
        "colab": {
          "base_uri": "https://localhost:8080/"
        },
        "id": "_2B5T1odTuuk",
        "outputId": "1bb9c721-4635-4a62-b388-6662c7e41864"
      },
      "execution_count": null,
      "outputs": [
        {
          "output_type": "stream",
          "name": "stdout",
          "text": [
            "Mounted at /content/drive\n"
          ]
        }
      ]
    },
    {
      "cell_type": "code",
      "source": [
        "!mv /content/log /content/drive/MyDrive"
      ],
      "metadata": {
        "id": "tFM2ACVyUFrR"
      },
      "execution_count": null,
      "outputs": []
    },
    {
      "cell_type": "code",
      "source": [],
      "metadata": {
        "id": "IfrXPibHUWQ-"
      },
      "execution_count": null,
      "outputs": []
    }
  ]
}